{
  "nbformat": 4,
  "nbformat_minor": 0,
  "metadata": {
    "colab": {
      "name": "All topological properties 2.ipynb",
      "provenance": [],
      "collapsed_sections": []
    },
    "kernelspec": {
      "name": "python3",
      "display_name": "Python 3"
    },
    "language_info": {
      "name": "python"
    }
  },
  "cells": [
    {
      "cell_type": "markdown",
      "source": [
        "# ***Here we calculate and explorate some topological properties of funtional networks***\n",
        "\n",
        "# ***`First let's load everything we're going to need`***"
      ],
      "metadata": {
        "id": "HugnjWBrc5DZ"
      }
    },
    {
      "cell_type": "code",
      "execution_count": null,
      "metadata": {
        "id": "FjhtvdcgYweV"
      },
      "outputs": [],
      "source": [
        "#import libraries\n",
        "import networkx as nx\n",
        "import numpy as np\n",
        "import matplotlib.pyplot as plt\n",
        "import json\n",
        "import pandas as pd"
      ]
    },
    {
      "cell_type": "code",
      "source": [
        "from google.colab import drive\n",
        "drive.mount('/gdrive')\n",
        "%cd /gdrive"
      ],
      "metadata": {
        "colab": {
          "base_uri": "https://localhost:8080/"
        },
        "id": "7taJU2WwdFl2",
        "outputId": "a96bc8bf-ee56-4bb3-853e-2e665c8c9338"
      },
      "execution_count": null,
      "outputs": [
        {
          "output_type": "stream",
          "name": "stdout",
          "text": [
            "Mounted at /gdrive\n",
            "/gdrive\n"
          ]
        }
      ]
    },
    {
      "cell_type": "code",
      "source": [
        "#Load FC, feedback type, mouse name and brain areas per sesion (sesions 9,12,14,17,21,30,32)\n",
        "sessions = [9,12,14,17,21,30,32]\n",
        "FCSS = []\n",
        "f_types = []\n",
        "areass = []\n",
        "trialss = []\n",
        "names = ['Henchde','Lederbergde','Lederbergde','Lederbergde','Mullerde','Richardsde','Richardsde']\n",
        "for session in sessions:\n",
        "  FCS = np.load('/gdrive/Shareddrives/NoNameGroup - NMA/Results/Functional Networks/FC_' + str(session) + '.npy')\n",
        "  f_type = np.load('/gdrive/Shareddrives/NoNameGroup - NMA/Results/Functional Networks/feedbacktype_' + str(session) +'.npy')\n",
        "  area = np.load('/gdrive/Shareddrives/NoNameGroup - NMA/Results/Functional Networks/brainareas_' + str(session) + '.npy')\n",
        "  trials = np.load('/gdrive/Shareddrives/NoNameGroup - NMA/Results/Functional Networks/trials_' + str(session) +'.npy')\n",
        "\n",
        "  FCSS.append(FCS)\n",
        "  f_types.append(f_type)\n",
        "  areass.append(area)\n",
        "  trialss.append(trials)"
      ],
      "metadata": {
        "id": "k7HgMZA9dDyy"
      },
      "execution_count": null,
      "outputs": []
    },
    {
      "cell_type": "code",
      "source": [
        "def entropy_dist(measure,nbins):\n",
        "  hist = np.histogram(measure,bins= nbins)[0]\n",
        "  prob = hist/np.sum(hist)\n",
        "  prob = prob[np.nonzero(prob)]\n",
        "  S = -np.sum(prob*np.log(prob)) \n",
        "  return S\n",
        "\n",
        "def node_degree(graph):\n",
        "  degree = list(graph.degree())\n",
        "  degree2 = np.ones(len(degree))\n",
        "  for i in range(len(degree)):\n",
        "    degree2[i] = degree[i][1]\n",
        "  return degree2\n",
        "\n",
        "\n",
        "def super_areas(brain_areas):\n",
        "  '''\n",
        "  from the list with brain areas, this function construct a list with super brain areas\n",
        "  input: \n",
        "  list of brain areas\n",
        "\n",
        "  output:\n",
        "  list of super brain areas\n",
        "  '''\n",
        "  visual = [\"VISa\", \"VISam\", \"VISl\", \"VISp\", \"VISpm\", \"VISrl\"]  # visual cortex\n",
        "  talamo = [\"CL\", \"LD\", \"LGd\", \"LH\", \"LP\", \"MD\", \"MG\", \"PO\", \"POL\", \"PT\", \"RT\", \"SPF\", \"TH\", \"VAL\", \"VPL\", \"VPM\"] # thalamus\n",
        "  hipocampo = [\"CA\", \"CA1\", \"CA2\", \"CA3\", \"DG\", \"SUB\", \"POST\"]  # hippocampal\n",
        "  no_visual = [\"ACA\", \"AUD\", \"COA\", \"DP\", \"ILA\", \"MOp\", \"MOs\", \"OLF\", \"ORB\", \"ORBm\", \"PIR\", \"PL\", \"SSp\", \"SSs\", \"RSP\",\"TT\"]  # non-visual cortex\n",
        "  midbrain = [\"APN\", \"IC\", \"MB\", \"MRN\", \"NB\", \"PAG\", \"RN\", \"SCs\", \"SCm\", \"SCig\", \"SCsg\", \"ZI\"]  # midbrain\n",
        "  basal_g = [\"ACB\", \"CP\", \"GPe\", \"LS\", \"LSc\", \"LSr\", \"MS\", \"OT\", \"SNr\", \"SI\"]  # basal ganglia\n",
        "  cortical_sub = [\"BLA\", \"BMA\", \"EP\", \"EPd\", \"MEA\"]  # cortical subplate\n",
        "  total = visual + talamo + hipocampo + no_visual + midbrain + basal_g + cortical_sub\n",
        "  sarea = []\n",
        "  #0 visual cortex\n",
        "  #1 talamo\n",
        "  #2 hipocampo\n",
        "  #3 no visual cortex\n",
        "  #4 midbrain\n",
        "  #5 basal ganglia\n",
        "  #6 cortical subplates\n",
        "  for i in brain_areas:\n",
        "    if i in visual:\n",
        "      sarea.append('visual_cortex')\n",
        "    if i in talamo:\n",
        "      sarea.append('thalamus')\n",
        "    if i in hipocampo:\n",
        "      sarea.append('hippocampus')\n",
        "    if i in no_visual:\n",
        "      sarea.append('non visual cortex')\n",
        "    if i in midbrain:\n",
        "      sarea.append('midbrain')\n",
        "    if i in basal_g:\n",
        "      sarea.append('basal_ganglia')\n",
        "    if i in cortical_sub:\n",
        "      sarea.append('cortical_subplates')\n",
        "    if i not in total:\n",
        "      sarea.append('other')\n",
        "    \n",
        "  return sarea\n",
        "\n",
        "def topological_measures(graph,brain_areas):\n",
        "  '''\n",
        "  this function calculate some topological measures from a given graph\n",
        "  input:\n",
        "  graph: graph in the format provided for networkx\n",
        "  \n",
        "  output:\n",
        "  measures: dictionary with some topological measures, from nodal measures this contain mean,standar desviation and entropy of the nodal measure\n",
        "  '''\n",
        "  #relabel nodes\n",
        "  nodes_prev = np.array(list(graph.nodes()))\n",
        "  dict_labels = {}\n",
        "  for i in range(len(nodes_prev)):\n",
        "    dict_labels[str(nodes_prev[i])] = i\n",
        "  nx.relabel_nodes(graph,dict_labels)\n",
        "\n",
        "  #take the large connected component of the graph\n",
        "  nodes_prev = np.array(list(graph.nodes()))\n",
        "  Gcc = sorted(nx.connected_components(graph), key=len, reverse=True)\n",
        "  graph = graph.subgraph(Gcc[0])\n",
        "  nodes_post = np.array(list(graph.nodes()))\n",
        "  #find the index of the nodes in the big component\n",
        "  index = []\n",
        "  for i in range(len(nodes_post)):\n",
        "    c = np.where( nodes_prev == nodes_post[i] )\n",
        "    index.append(c[0][0])\n",
        "  index = np.array(index)\n",
        "\n",
        "  #filter brain areas\n",
        "  brain_areas = brain_areas[index]\n",
        "  sbrain_areas = super_areas(brain_areas)\n",
        "  sbrain_areas = np.array(sbrain_areas)\n",
        "  filter_midbrain = sbrain_areas == 'midbrain'\n",
        "  filter_basal_ganglia = sbrain_areas == 'basal_ganglia'\n",
        "  \n",
        "\n",
        "  #calculate clustering\n",
        "  clustering = nx.clustering(graph,weight = True)\n",
        "  clustering = np.array(list(clustering.values()))\n",
        "  #calculate closenes\n",
        "  g_distance_dict = {(e1, e2): 1 / weight for e1, e2, weight in graph.edges(data='weight')}\n",
        "  nx.set_edge_attributes(graph, g_distance_dict, 'distance')\n",
        "  closeness = nx.closeness_centrality(graph,distance = \"distance\")\n",
        "  closeness = np.array(list(closeness.values()))\n",
        "  #calculate degree\n",
        "  degree = node_degree(graph)\n",
        "  #calculate mean geodesic distance\n",
        "  geodd = nx.average_shortest_path_length(graph,weight = True)\n",
        "  #calculate strenght\n",
        "  FC = nx.to_numpy_array(graph)\n",
        "  strenght = np.sum(FC, axis = 1)\n",
        "  # calculate mean, standar desviation and entropy of degree, closeness, and clustering\n",
        "  mean_clustering = np.mean(clustering)\n",
        "  std_clustering = np.std(clustering)\n",
        "  mean_closeness = np.mean(closeness)\n",
        "  std_closeness = np.std(closeness)\n",
        "  mean_degree = np.mean(degree)\n",
        "  std_degree = np.std(degree)\n",
        "  mean_strenght = np.mean(strenght)\n",
        "  std_strenght= np.std(strenght)\n",
        "  entropy_closeness = entropy_dist(closeness,nbins = 25)\n",
        "  entropy_strenght = entropy_dist(strenght,nbins = 25)\n",
        "  entropy_clustering = entropy_dist(clustering,nbins = 25)\n",
        "  entropy_degree = entropy_dist(degree,nbins = 25)\n",
        "  #calculate small world coefficient\n",
        "  smallworld = mean_clustering/geodd\n",
        "\n",
        "  #calculate local measure\n",
        "  mean_clustering_midbrain = np.mean(clustering[filter_midbrain])\n",
        "  mean_clustering_basal_ganglia = np.mean(clustering[filter_basal_ganglia])\n",
        "  std_clustering_midbrain = np.std(clustering[filter_midbrain])\n",
        "  std_clustering_basal_ganglia = np.std(clustering[filter_basal_ganglia])\n",
        "\n",
        "  mean_degree_midbrain = np.mean(degree[filter_midbrain])\n",
        "  mean_degree_basal_ganglia = np.mean(degree[filter_basal_ganglia])\n",
        "  std_degree_midbrain = np.std(degree[filter_midbrain])\n",
        "  std_degree_basal_ganglia = np.std(degree[filter_basal_ganglia])\n",
        "\n",
        "  mean_strenght_midbrain = np.mean(strenght[filter_midbrain])\n",
        "  mean_strenght_basal_ganglia = np.mean(strenght[filter_basal_ganglia])\n",
        "  std_strenght_midbrain = np.std(strenght[filter_midbrain])\n",
        "  std_strenght_basal_ganglia = np.std(strenght[filter_basal_ganglia])\n",
        "\n",
        "  mean_closeness_midbrain = np.mean(closeness[filter_midbrain])\n",
        "  mean_closeness_basal_ganglia = np.mean(closeness[filter_basal_ganglia])\n",
        "  std_closeness_midbrain = np.std(closeness[filter_midbrain])\n",
        "  std_closeness_basal_ganglia = np.std(closeness[filter_basal_ganglia])\n",
        "\n",
        "\n",
        "\n",
        "\n",
        "  #put all this in a dictionary\n",
        "  measures = {'degree':degree,'mean_degree':mean_degree, 'std_degree':std_degree,'entropy_degree':entropy_degree,\n",
        "            'closeness':closeness,'mean_closeness':mean_closeness, 'std_closeness':std_closeness,'entropy_closeness':entropy_closeness,\n",
        "            'strenght':strenght,'mean_strenght':mean_strenght, 'std_strenght':std_strenght,'entropy_strenght':entropy_strenght,\n",
        "            'clustering':clustering,'mean_clustering':mean_clustering, 'std_clustering':std_clustering,'entropy_clustering':entropy_clustering,\n",
        "            'geodd': geodd,\n",
        "            'smallworld': smallworld, \n",
        "            'mean_clustering_midbrain':mean_clustering_midbrain,'mean_clustering_basal_ganglia':mean_clustering_basal_ganglia,'std_clustering_midbrain':std_clustering_midbrain,'std_clustering_basal_ganglia':std_clustering_basal_ganglia,\n",
        "            'mean_degree_midbrain':mean_degree_midbrain,'mean_degree_basal_ganglia':mean_degree_basal_ganglia,'std_degree_midbrain':std_degree_midbrain,'std_degree_basal_ganglia':std_degree_basal_ganglia,\n",
        "            'mean_strenght_midbrain':mean_strenght_midbrain,'mean_strenght_basal_ganglia':mean_strenght_basal_ganglia,'std_strenght_midbrain':std_strenght_midbrain,'std_strenght_basal_ganglia':std_strenght_basal_ganglia,\n",
        "            'mean_closeness_midbrain':mean_closeness_midbrain,'mean_closeness_basal_ganglia':mean_closeness_basal_ganglia,'std_closeness_midbrain':std_closeness_midbrain,'std_closeness_basal_ganglia':std_closeness_basal_ganglia}\n",
        "  return measures\n",
        "\n",
        "def topological_measures_session(FCS,reward,session,trials,threshold,brain_areas):\n",
        "  ntrials = len(trials)\n",
        "  #global\n",
        "  mean_degree = np.ones(ntrials)\n",
        "  mean_closeness = np.ones(ntrials)\n",
        "  mean_clustering = np.ones(ntrials)\n",
        "  mean_strenght = np.ones(ntrials)\n",
        "\n",
        "  std_strenght = np.ones(ntrials)\n",
        "  std_degree = np.ones(ntrials)\n",
        "  std_closeness = np.ones(ntrials)\n",
        "  std_clustering = np.ones(ntrials)\n",
        "\n",
        "  entropy_degree = np.ones(ntrials)\n",
        "  entropy_closeness = np.ones(ntrials)\n",
        "  entropy_clustering = np.ones(ntrials)\n",
        "  entropy_strenght = np.ones(ntrials)\n",
        "\n",
        "  geodd = np.ones(ntrials)\n",
        "  smallworld = np.ones(ntrials)\n",
        "\n",
        "  #local\n",
        "  mean_degree_midbrain = np.ones(ntrials)\n",
        "  mean_closeness_midbrain = np.ones(ntrials)\n",
        "  mean_clustering_midbrain = np.ones(ntrials)\n",
        "  mean_strenght_midbrain = np.ones(ntrials)\n",
        "\n",
        "  std_strenght_midbrain = np.ones(ntrials)\n",
        "  std_degree_midbrain = np.ones(ntrials)\n",
        "  std_closeness_midbrain = np.ones(ntrials)\n",
        "  std_clustering_midbrain = np.ones(ntrials)\n",
        "\n",
        "  mean_degree_basal_ganglia = np.ones(ntrials)\n",
        "  mean_closeness_basal_ganglia = np.ones(ntrials)\n",
        "  mean_clustering_basal_ganglia = np.ones(ntrials)\n",
        "  mean_strenght_basal_ganglia = np.ones(ntrials)\n",
        "\n",
        "  std_strenght_basal_ganglia = np.ones(ntrials)\n",
        "  std_degree_basal_ganglia = np.ones(ntrials)\n",
        "  std_closeness_basal_ganglia = np.ones(ntrials)\n",
        "  std_clustering_basal_ganglia = np.ones(ntrials)\n",
        "\n",
        "\n",
        "  for trial in range(ntrials):\n",
        "    FC = FCS[trial]\n",
        "    FC = FC*(FC > threshold)\n",
        "    graph = nx.from_numpy_array(FC)\n",
        "    measures = topological_measures(graph,brain_areas)\n",
        "\n",
        "    #local\n",
        "\n",
        "    mean_degree[trial] = measures['mean_degree']\n",
        "    mean_closeness[trial] = measures['mean_closeness']\n",
        "    mean_clustering[trial] = measures['mean_clustering']\n",
        "    mean_strenght[trial] = measures['mean_strenght']\n",
        "\n",
        "    std_strenght[trial] = measures['std_strenght']\n",
        "    std_degree[trial] = measures['std_degree']\n",
        "    std_closeness[trial] = measures['std_closeness']\n",
        "    std_clustering[trial] = measures['std_clustering']\n",
        "\n",
        "    entropy_degree[trial] = measures['entropy_degree']\n",
        "    entropy_closeness[trial] = measures['entropy_closeness']\n",
        "    entropy_clustering[trial] = measures['entropy_clustering']\n",
        "    entropy_strenght[trial] = measures['entropy_strenght']\n",
        "\n",
        "    geodd[trial] = measures['geodd']\n",
        "    smallworld[trial] = measures['smallworld']\n",
        "\n",
        "    #global\n",
        "    mean_degree_midbrain[trial] = measures['mean_degree_midbrain']\n",
        "    mean_closeness_midbrain[trial] = measures['mean_closeness_midbrain']\n",
        "    mean_clustering_midbrain[trial] = measures['mean_clustering_midbrain']\n",
        "    mean_strenght_midbrain[trial] = measures['mean_strenght_midbrain']\n",
        "\n",
        "    std_strenght_midbrain[trial] = measures['std_strenght_midbrain']\n",
        "    std_degree_midbrain[trial] = measures['std_degree_midbrain']\n",
        "    std_closeness_midbrain[trial] = measures['std_closeness_midbrain']\n",
        "    std_clustering_midbrain[trial] = measures['std_clustering_midbrain']\n",
        "\n",
        "    mean_degree_basal_ganglia[trial] = measures['mean_degree_basal_ganglia']\n",
        "    mean_closeness_basal_ganglia[trial] = measures['mean_closeness_basal_ganglia']\n",
        "    mean_clustering_basal_ganglia[trial] = measures['mean_clustering_basal_ganglia']\n",
        "    mean_strenght_basal_ganglia[trial] = measures['mean_strenght_basal_ganglia']\n",
        "\n",
        "    std_strenght_basal_ganglia[trial] = measures['std_strenght_basal_ganglia']\n",
        "    std_degree_basal_ganglia[trial] = measures['std_degree_basal_ganglia']\n",
        "    std_closeness_basal_ganglia[trial] = measures['std_closeness_basal_ganglia']\n",
        "    std_clustering_basal_ganglia[trial] = measures['std_clustering_basal_ganglia']\n",
        "\n",
        "\n",
        "  measures_sesion = {'reward':reward,'session':np.array([session]*(ntrials)),'trial':trials,'mean_degree':mean_degree, 'std_degree':std_degree,'entropy_degree':entropy_degree,\n",
        "        'mean_strenght':mean_strenght, 'std_strenght':std_strenght,'entropy_strenght':entropy_strenght,\n",
        "        'mean_closeness':mean_closeness, 'std_closeness':std_closeness,'entropy_closeness':entropy_closeness,\n",
        "        'mean_clustering':mean_clustering, 'std_clustering':std_clustering,'entropy_clustering':entropy_clustering,\n",
        "        'geodd': geodd,\n",
        "        'smallworld': smallworld,\n",
        "        'mean_clustering_midbrain':mean_clustering_midbrain,'mean_clustering_basal_ganglia':mean_clustering_basal_ganglia,'std_clustering_midbrain':std_clustering_midbrain,'std_clustering_basal_ganglia':std_clustering_basal_ganglia,\n",
        "        'mean_degree_midbrain':mean_degree_midbrain,'mean_degree_basal_ganglia':mean_degree_basal_ganglia,'std_degree_midbrain':std_degree_midbrain,'std_degree_basal_ganglia':std_degree_basal_ganglia,\n",
        "        'mean_strenght_midbrain':mean_strenght_midbrain,'mean_strenght_basal_ganglia':mean_strenght_basal_ganglia,'std_strenght_midbrain':std_strenght_midbrain,'std_strenght_basal_ganglia':std_strenght_basal_ganglia,\n",
        "        'mean_closeness_midbrain':mean_closeness_midbrain,'mean_closeness_basal_ganglia':mean_closeness_basal_ganglia,'std_closeness_midbrain':std_closeness_midbrain,'std_closeness_basal_ganglia':std_closeness_basal_ganglia}\n",
        "  return measures_sesion"
      ],
      "metadata": {
        "id": "QKAAXm3VePkW"
      },
      "execution_count": null,
      "outputs": []
    },
    {
      "cell_type": "markdown",
      "source": [
        "# ***`calculate topological measures and organize in a dictionary`***"
      ],
      "metadata": {
        "id": "aWSSjasXMNFp"
      }
    },
    {
      "cell_type": "code",
      "source": [
        "for i in range(3,5):\n",
        "  measures = topological_measures_session(FCSS[i],f_types[i],sessions[i],trialss[i],0.02,areass[i])\n",
        "  data = pd.DataFrame(measures)\n",
        "  data.to_csv('/gdrive/Shareddrives/NoNameGroup - NMA/Results/Topological measures/all_measures_session_' + str(sessions[i])+'.csv' )\n",
        "  #save_dict(measures,'/gdrive/Shareddrives/NoNameGroup - NMA/Results/Topological measures/measures_session_' + str(sessions[i]) )"
      ],
      "metadata": {
        "id": "M136f4vHg9oC"
      },
      "execution_count": null,
      "outputs": []
    },
    {
      "cell_type": "code",
      "source": [
        ""
      ],
      "metadata": {
        "id": "CCyR-wwXDV0-"
      },
      "execution_count": null,
      "outputs": []
    },
    {
      "cell_type": "code",
      "source": [
        ""
      ],
      "metadata": {
        "id": "nB56RMC4-Mwt"
      },
      "execution_count": null,
      "outputs": []
    },
    {
      "cell_type": "code",
      "source": [
        ""
      ],
      "metadata": {
        "id": "oinqjMGs-MzE"
      },
      "execution_count": null,
      "outputs": []
    },
    {
      "cell_type": "code",
      "source": [
        ""
      ],
      "metadata": {
        "id": "l39GNJ2V-M1d"
      },
      "execution_count": null,
      "outputs": []
    },
    {
      "cell_type": "code",
      "source": [
        ""
      ],
      "metadata": {
        "id": "EdWG_EQwDV3_"
      },
      "execution_count": null,
      "outputs": []
    },
    {
      "cell_type": "markdown",
      "source": [
        "# ***Check some networks***"
      ],
      "metadata": {
        "id": "FAyDfpp3xkBV"
      }
    },
    {
      "cell_type": "code",
      "source": [
        ""
      ],
      "metadata": {
        "id": "pU8Ie2bOCpsG"
      },
      "execution_count": null,
      "outputs": []
    },
    {
      "cell_type": "code",
      "source": [
        "import networkx as nx \n",
        "grafo = nx.from_numpy_array(FC)\n",
        "Gcc = sorted(nx.connected_components(grafo), key=len, reverse=True)\n",
        "grafo = grafo.subgraph(Gcc[0])\n",
        "nx.draw(grafo)"
      ],
      "metadata": {
        "id": "MsuqOuE7xpQt"
      },
      "execution_count": null,
      "outputs": []
    },
    {
      "cell_type": "code",
      "source": [
        "nodos = list(grafo.nodes())\n",
        "for j in range(len(nodos)):\n",
        "  grafo.nodes[nodos[j]]['area'] = sarea[j]"
      ],
      "metadata": {
        "id": "kxaMZ137xpkK"
      },
      "execution_count": null,
      "outputs": []
    },
    {
      "cell_type": "code",
      "source": [
        "nx.write_graphml(grafo,'/gdrive/Shareddrives/NoNameGroup - NMA/Resultados/Redes funcionales/FC_reward.graphml')"
      ],
      "metadata": {
        "id": "r4J7Vu-1xrRU"
      },
      "execution_count": null,
      "outputs": []
    },
    {
      "cell_type": "code",
      "source": [
        "a = np.array(['hola','adios'])\n",
        "b = a == 'hola'\n",
        "print(b)"
      ],
      "metadata": {
        "colab": {
          "base_uri": "https://localhost:8080/"
        },
        "id": "sGXzHrnrMO5M",
        "outputId": "216f6f22-be7a-46e9-ef2d-0a21588d3f28"
      },
      "execution_count": null,
      "outputs": [
        {
          "output_type": "stream",
          "name": "stdout",
          "text": [
            "[ True False]\n"
          ]
        }
      ]
    },
    {
      "cell_type": "code",
      "source": [
        "nx.draw(graph)"
      ],
      "metadata": {
        "colab": {
          "base_uri": "https://localhost:8080/",
          "height": 319
        },
        "id": "hzFs6X8RMTCQ",
        "outputId": "f614f126-65fb-44c4-ed68-538b3065f765"
      },
      "execution_count": null,
      "outputs": [
        {
          "output_type": "display_data",
          "data": {
            "text/plain": [
              "<Figure size 432x288 with 1 Axes>"
            ],
            "image/png": "[encoded data removed]"
          },
          "metadata": {}
        }
      ]
    },
    {
      "cell_type": "code",
      "source": [
        "FC = FCSS[0][10]\n",
        "graph = nx.from_numpy_array(FC)\n"
      ],
      "metadata": {
        "id": "q9c9EJdEeUvd"
      },
      "execution_count": null,
      "outputs": []
    },
    {
      "cell_type": "code",
      "source": [
        "nodes_prev = np.array(list(graph.nodes()))\n",
        "dict_labels = {}\n",
        "for i in range(len(nodes_prev)):\n",
        "  dict_labels[str(nodes_prev[i])] = i\n",
        "nx.relabel_nodes(graph,dict_labels)\n",
        "\n"
      ],
      "metadata": {
        "colab": {
          "base_uri": "https://localhost:8080/"
        },
        "id": "1U095v4MlnKR",
        "outputId": "f44cb54b-96bf-4570-d889-d61c3c319e6a"
      },
      "execution_count": null,
      "outputs": [
        {
          "output_type": "execute_result",
          "data": {
            "text/plain": [
              "<networkx.classes.graph.Graph at 0x7fa379330c90>"
            ]
          },
          "metadata": {},
          "execution_count": 94
        }
      ]
    },
    {
      "cell_type": "code",
      "source": [
        "print(dict_labels)"
      ],
      "metadata": {
        "colab": {
          "base_uri": "https://localhost:8080/"
        },
        "id": "hN9uSf_MmN9y",
        "outputId": "c790f19d-d06a-499c-af8e-b0cdad5c3bf6"
      },
      "execution_count": null,
      "outputs": [
        {
          "output_type": "stream",
          "name": "stdout",
          "text": [
            "{'0': 0, '1': 1, '2': 2, '3': 3, '4': 4, '5': 5, '6': 6, '7': 7, '8': 8, '9': 9, '10': 10, '11': 11, '12': 12, '13': 13, '14': 14, '15': 15, '16': 16, '17': 17, '18': 18, '19': 19, '20': 20, '21': 21, '22': 22, '23': 23, '24': 24, '25': 25, '26': 26, '27': 27, '28': 28, '29': 29, '30': 30, '31': 31, '32': 32, '33': 33, '34': 34, '35': 35, '36': 36, '37': 37, '38': 38, '39': 39, '40': 40, '41': 41, '42': 42, '43': 43, '44': 44, '45': 45, '46': 46, '47': 47, '48': 48, '49': 49, '50': 50, '51': 51, '52': 52, '53': 53, '54': 54, '55': 55, '56': 56, '57': 57, '58': 58, '59': 59, '60': 60, '61': 61, '62': 62, '63': 63, '64': 64, '65': 65, '66': 66, '67': 67, '68': 68, '69': 69, '70': 70, '71': 71, '72': 72, '73': 73, '74': 74, '75': 75, '76': 76, '77': 77, '78': 78, '79': 79, '80': 80, '81': 81, '82': 82, '83': 83, '84': 84, '85': 85, '86': 86, '87': 87, '88': 88, '89': 89, '90': 90, '91': 91, '92': 92, '93': 93, '94': 94, '95': 95, '96': 96, '97': 97, '98': 98, '99': 99, '100': 100, '101': 101, '102': 102, '103': 103, '104': 104, '105': 105, '106': 106, '107': 107, '108': 108, '109': 109, '110': 110, '111': 111, '112': 112, '113': 113, '114': 114, '115': 115, '116': 116, '117': 117, '118': 118, '119': 119, '120': 120, '121': 121, '122': 122, '123': 123, '124': 124, '125': 125, '126': 126, '127': 127, '128': 128, '129': 129, '130': 130, '131': 131, '132': 132, '133': 133, '134': 134, '135': 135, '136': 136, '137': 137, '138': 138, '139': 139, '140': 140, '141': 141, '142': 142, '143': 143, '144': 144, '145': 145, '146': 146, '147': 147, '148': 148, '149': 149, '150': 150, '151': 151, '152': 152, '153': 153, '154': 154, '155': 155, '156': 156, '157': 157, '158': 158, '159': 159, '160': 160, '161': 161, '162': 162, '163': 163, '164': 164, '165': 165, '166': 166, '167': 167, '168': 168, '169': 169, '170': 170, '171': 171, '172': 172, '173': 173, '174': 174, '175': 175, '176': 176, '177': 177, '178': 178, '179': 179, '180': 180, '181': 181, '182': 182, '183': 183, '184': 184, '185': 185, '186': 186, '187': 187, '188': 188, '189': 189, '190': 190, '191': 191, '192': 192, '193': 193, '194': 194, '195': 195, '196': 196, '197': 197, '198': 198, '199': 199, '200': 200, '201': 201, '202': 202, '203': 203, '204': 204, '205': 205, '206': 206, '207': 207, '208': 208, '209': 209, '210': 210, '211': 211, '212': 212, '213': 213, '214': 214, '215': 215, '216': 216, '217': 217, '218': 218, '219': 219, '220': 220, '221': 221, '222': 222, '223': 223, '224': 224, '225': 225, '226': 226, '227': 227, '228': 228, '229': 229, '230': 230, '231': 231, '232': 232, '233': 233, '234': 234, '235': 235, '236': 236, '237': 237, '238': 238, '239': 239, '240': 240, '241': 241, '242': 242, '243': 243, '244': 244, '245': 245, '246': 246, '247': 247, '248': 248, '249': 249, '250': 250, '251': 251, '252': 252, '253': 253, '254': 254, '255': 255, '256': 256, '257': 257, '258': 258, '259': 259, '260': 260, '261': 261, '262': 262, '263': 263, '264': 264, '265': 265, '266': 266, '267': 267, '268': 268, '269': 269, '270': 270, '271': 271, '272': 272, '273': 273, '274': 274, '275': 275, '276': 276, '277': 277, '278': 278, '279': 279, '280': 280, '281': 281, '282': 282, '283': 283, '284': 284, '285': 285, '286': 286, '287': 287, '288': 288, '289': 289, '290': 290, '291': 291, '292': 292, '293': 293, '294': 294, '295': 295, '296': 296, '297': 297, '298': 298, '299': 299, '300': 300, '301': 301, '302': 302, '303': 303, '304': 304, '305': 305, '306': 306, '307': 307, '308': 308, '309': 309, '310': 310, '311': 311, '312': 312, '313': 313, '314': 314, '315': 315, '316': 316, '317': 317, '318': 318, '319': 319, '320': 320, '321': 321, '322': 322, '323': 323, '324': 324, '325': 325, '326': 326, '327': 327, '328': 328, '329': 329, '330': 330, '331': 331, '332': 332, '333': 333, '334': 334, '335': 335, '336': 336, '337': 337, '338': 338, '339': 339, '340': 340, '341': 341, '342': 342, '343': 343, '344': 344, '345': 345, '346': 346, '347': 347, '348': 348, '349': 349, '350': 350, '351': 351, '352': 352, '353': 353, '354': 354, '355': 355, '356': 356, '357': 357, '358': 358, '359': 359, '360': 360, '361': 361, '362': 362, '363': 363, '364': 364, '365': 365, '366': 366, '367': 367, '368': 368, '369': 369, '370': 370, '371': 371, '372': 372, '373': 373, '374': 374, '375': 375, '376': 376, '377': 377, '378': 378, '379': 379, '380': 380, '381': 381, '382': 382, '383': 383, '384': 384, '385': 385, '386': 386, '387': 387, '388': 388, '389': 389, '390': 390, '391': 391, '392': 392, '393': 393, '394': 394, '395': 395, '396': 396, '397': 397, '398': 398, '399': 399, '400': 400, '401': 401, '402': 402, '403': 403, '404': 404, '405': 405, '406': 406, '407': 407, '408': 408, '409': 409, '410': 410, '411': 411, '412': 412, '413': 413, '414': 414, '415': 415, '416': 416, '417': 417, '418': 418, '419': 419, '420': 420, '421': 421, '422': 422, '423': 423, '424': 424, '425': 425, '426': 426, '427': 427, '428': 428, '429': 429, '430': 430, '431': 431, '432': 432, '433': 433, '434': 434, '435': 435, '436': 436, '437': 437, '438': 438, '439': 439, '440': 440, '441': 441, '442': 442, '443': 443, '444': 444, '445': 445, '446': 446, '447': 447, '448': 448, '449': 449, '450': 450, '451': 451, '452': 452, '453': 453, '454': 454, '455': 455, '456': 456, '457': 457, '458': 458, '459': 459, '460': 460, '461': 461, '462': 462, '463': 463, '464': 464, '465': 465, '466': 466, '467': 467, '468': 468, '469': 469, '470': 470, '471': 471, '472': 472, '473': 473, '474': 474, '475': 475, '476': 476, '477': 477, '478': 478, '479': 479, '480': 480, '481': 481, '482': 482, '483': 483, '484': 484, '485': 485, '486': 486, '487': 487, '488': 488, '489': 489, '490': 490, '491': 491, '492': 492, '493': 493, '494': 494, '495': 495, '496': 496, '497': 497, '498': 498, '499': 499, '500': 500, '501': 501, '502': 502, '503': 503, '504': 504, '505': 505, '506': 506, '507': 507, '508': 508, '509': 509, '510': 510, '511': 511, '512': 512, '513': 513, '514': 514, '515': 515, '516': 516, '517': 517, '518': 518, '519': 519, '520': 520, '521': 521, '522': 522, '523': 523, '524': 524, '525': 525, '526': 526, '527': 527, '528': 528, '529': 529, '530': 530, '531': 531, '532': 532, '533': 533, '534': 534, '535': 535, '536': 536, '537': 537, '538': 538, '539': 539, '540': 540, '541': 541, '542': 542, '543': 543, '544': 544, '545': 545, '546': 546, '547': 547, '548': 548, '549': 549, '550': 550, '551': 551, '552': 552, '553': 553, '554': 554, '555': 555, '556': 556, '557': 557, '558': 558, '559': 559, '560': 560, '561': 561, '562': 562, '563': 563, '564': 564, '565': 565, '566': 566, '567': 567, '568': 568, '569': 569, '570': 570, '571': 571, '572': 572, '573': 573, '574': 574, '575': 575, '576': 576, '577': 577, '578': 578, '579': 579, '580': 580, '581': 581, '582': 582, '583': 583, '584': 584, '585': 585, '586': 586, '587': 587, '588': 588, '589': 589, '590': 590, '591': 591, '592': 592, '593': 593, '594': 594, '595': 595, '596': 596, '597': 597, '598': 598, '599': 599, '600': 600, '601': 601, '602': 602, '603': 603, '604': 604, '605': 605, '606': 606, '607': 607, '608': 608, '609': 609, '610': 610, '611': 611, '612': 612, '613': 613, '614': 614, '615': 615, '616': 616, '617': 617, '618': 618, '619': 619, '620': 620, '621': 621, '622': 622, '623': 623, '624': 624, '625': 625, '626': 626, '627': 627, '628': 628, '629': 629, '630': 630, '631': 631, '632': 632, '633': 633, '634': 634, '635': 635, '636': 636, '637': 637, '638': 638, '639': 639, '640': 640, '641': 641, '642': 642, '643': 643, '644': 644, '645': 645}\n"
          ]
        }
      ]
    },
    {
      "cell_type": "code",
      "source": [
        ""
      ],
      "metadata": {
        "id": "za5SsCqsmN_2"
      },
      "execution_count": null,
      "outputs": []
    }
  ]
}