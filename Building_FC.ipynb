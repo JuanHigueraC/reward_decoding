{
  "cells": [
    {
      "cell_type": "markdown",
      "metadata": {
        "id": "wDPhfzqCYBQz"
      },
      "source": [
        "## Loading of Steinmetz data\n",
        "\n",
        "includes some visualizations"
      ]
    },
    {
      "cell_type": "markdown",
      "source": [
        "# ***`First let's load everything we're going to need`***"
      ],
      "metadata": {
        "id": "X3z9nAeIrQPR"
      }
    },
    {
      "cell_type": "code",
      "execution_count": null,
      "metadata": {
        "id": "5vqm7reWYBQ4"
      },
      "outputs": [],
      "source": [
        "import numpy as np\n",
        "import matplotlib.pyplot as plt\n",
        "from scipy.stats import zscore\n",
        "from sklearn.decomposition import PCA\n",
        "import pandas as pd"
      ]
    },
    {
      "cell_type": "code",
      "execution_count": null,
      "metadata": {
        "id": "m8EdeXfbYBQ5"
      },
      "outputs": [],
      "source": [
        "# @title Figure settings\n",
        "from matplotlib import rcParams\n",
        "\n",
        "rcParams['figure.figsize'] = [20, 4]\n",
        "rcParams['font.size'] = 15\n",
        "rcParams['axes.spines.top'] = False\n",
        "rcParams['axes.spines.right'] = False\n",
        "rcParams['figure.autolayout'] = True"
      ]
    },
    {
      "cell_type": "code",
      "execution_count": null,
      "metadata": {
        "id": "27ErCA2nYBQ5"
      },
      "outputs": [],
      "source": [
        "# @title Data retrieval\n",
        "import os, requests\n",
        "\n",
        "fname = []\n",
        "for j in range(3):\n",
        "  fname.append('steinmetz_part%d.npz'%j)\n",
        "url = [\"https://osf.io/agvxh/download\"]\n",
        "url.append(\"https://osf.io/uv3mw/download\")\n",
        "url.append(\"https://osf.io/ehmw2/download\")\n",
        "\n",
        "for j in range(len(url)):\n",
        "  if not os.path.isfile(fname[j]):\n",
        "    try:\n",
        "      r = requests.get(url[j])\n",
        "    except requests.ConnectionError:\n",
        "      print(\"!!! Failed to download data !!!\")\n",
        "    else:\n",
        "      if r.status_code != requests.codes.ok:\n",
        "        print(\"!!! Failed to download data !!!\")\n",
        "      else:\n",
        "        with open(fname[j], \"wb\") as fid:\n",
        "          fid.write(r.content)\n",
        "# @title Data loading\n",
        "alldat = np.array([])\n",
        "for j in range(len(fname)):\n",
        "  alldat = np.hstack((alldat,\n",
        "                      np.load('steinmetz_part%d.npz'%j,\n",
        "                              allow_pickle=True)['dat']))\n"
      ]
    },
    {
      "cell_type": "code",
      "execution_count": null,
      "metadata": {
        "id": "vE5SJlvJYBQ6"
      },
      "outputs": [],
      "source": [
        "# @title Data retrieval\n",
        "import os, requests\n",
        "\n",
        "fname = ['steinmetz_lfp.npz']\n",
        "\n",
        "\n",
        "url = [\"https://osf.io/kx3v9/download\"]\n",
        "\n",
        "\n",
        "for j in range(len(url)):\n",
        "  if not os.path.isfile(fname[j]):\n",
        "    try:\n",
        "      r = requests.get(url[j])\n",
        "    except requests.ConnectionError:\n",
        "      print(\"!!! Failed to download data !!!\")\n",
        "    else:\n",
        "      if r.status_code != requests.codes.ok:\n",
        "        print(\"!!! Failed to download data !!!\")\n",
        "      else:\n",
        "        with open(fname[j], \"wb\") as fid:\n",
        "          fid.write(r.content)\n",
        "        \n",
        "dat_LFP = np.load('steinmetz_lfp.npz', allow_pickle=True)['dat']"
      ]
    },
    {
      "cell_type": "code",
      "execution_count": null,
      "metadata": {
        "colab": {
          "base_uri": "https://localhost:8080/"
        },
        "id": "KWPvkUl0RHLa",
        "outputId": "6b75ff97-c56b-4a68-f843-49eca3578925"
      },
      "outputs": [
        {
          "output_type": "stream",
          "name": "stdout",
          "text": [
            "Mounted at /gdrive\n",
            "/gdrive\n"
          ]
        }
      ],
      "source": [
        "from google.colab import drive\n",
        "drive.mount('/gdrive')\n",
        "%cd /gdrive"
      ]
    },
    {
      "cell_type": "code",
      "execution_count": null,
      "metadata": {
        "colab": {
          "base_uri": "https://localhost:8080/"
        },
        "id": "ZmGUY8-8htyA",
        "outputId": "9f5a13d8-b2b4-4b82-be06-e55d2bbfab24"
      },
      "outputs": [
        {
          "output_type": "stream",
          "name": "stdout",
          "text": [
            "Looking in indexes: https://pypi.org/simple, https://us-python.pkg.dev/colab-wheels/public/simple/\n",
            "Collecting pyinform\n",
            "  Downloading pyinform-0.2.0-py3-none-any.whl (131 kB)\n",
            "\u001b[K     |████████████████████████████████| 131 kB 13.4 MB/s \n",
            "\u001b[?25hRequirement already satisfied: numpy in /usr/local/lib/python3.7/dist-packages (from pyinform) (1.21.6)\n",
            "Installing collected packages: pyinform\n",
            "Successfully installed pyinform-0.2.0\n"
          ]
        }
      ],
      "source": [
        "pip install pyinform"
      ]
    },
    {
      "cell_type": "code",
      "execution_count": null,
      "metadata": {
        "colab": {
          "base_uri": "https://localhost:8080/"
        },
        "id": "_nDyqrfSx4S3",
        "outputId": "52cbea6b-04ad-4366-a387-47e55fa89999"
      },
      "outputs": [
        {
          "output_type": "stream",
          "name": "stdout",
          "text": [
            "Looking in indexes: https://pypi.org/simple, https://us-python.pkg.dev/colab-wheels/public/simple/\n",
            "Collecting nilearn\n",
            "  Downloading nilearn-0.9.1-py3-none-any.whl (9.6 MB)\n",
            "\u001b[K     |████████████████████████████████| 9.6 MB 12.5 MB/s \n",
            "\u001b[?25hRequirement already satisfied: joblib>=0.15 in /usr/local/lib/python3.7/dist-packages (from nilearn) (1.1.0)\n",
            "Requirement already satisfied: requests>=2 in /usr/local/lib/python3.7/dist-packages (from nilearn) (2.23.0)\n",
            "Requirement already satisfied: numpy>=1.18 in /usr/local/lib/python3.7/dist-packages (from nilearn) (1.21.6)\n",
            "Requirement already satisfied: lxml in /usr/local/lib/python3.7/dist-packages (from nilearn) (4.2.6)\n",
            "Requirement already satisfied: scipy>=1.5 in /usr/local/lib/python3.7/dist-packages (from nilearn) (1.7.3)\n",
            "Requirement already satisfied: nibabel>=3.0.0 in /usr/local/lib/python3.7/dist-packages (from nilearn) (3.0.2)\n",
            "Requirement already satisfied: pandas>=1.0 in /usr/local/lib/python3.7/dist-packages (from nilearn) (1.3.5)\n",
            "Requirement already satisfied: scikit-learn>=0.22 in /usr/local/lib/python3.7/dist-packages (from nilearn) (1.0.2)\n",
            "Requirement already satisfied: pytz>=2017.3 in /usr/local/lib/python3.7/dist-packages (from pandas>=1.0->nilearn) (2022.1)\n",
            "Requirement already satisfied: python-dateutil>=2.7.3 in /usr/local/lib/python3.7/dist-packages (from pandas>=1.0->nilearn) (2.8.2)\n",
            "Requirement already satisfied: six>=1.5 in /usr/local/lib/python3.7/dist-packages (from python-dateutil>=2.7.3->pandas>=1.0->nilearn) (1.15.0)\n",
            "Requirement already satisfied: idna<3,>=2.5 in /usr/local/lib/python3.7/dist-packages (from requests>=2->nilearn) (2.10)\n",
            "Requirement already satisfied: urllib3!=1.25.0,!=1.25.1,<1.26,>=1.21.1 in /usr/local/lib/python3.7/dist-packages (from requests>=2->nilearn) (1.24.3)\n",
            "Requirement already satisfied: chardet<4,>=3.0.2 in /usr/local/lib/python3.7/dist-packages (from requests>=2->nilearn) (3.0.4)\n",
            "Requirement already satisfied: certifi>=2017.4.17 in /usr/local/lib/python3.7/dist-packages (from requests>=2->nilearn) (2022.6.15)\n",
            "Requirement already satisfied: threadpoolctl>=2.0.0 in /usr/local/lib/python3.7/dist-packages (from scikit-learn>=0.22->nilearn) (3.1.0)\n",
            "Installing collected packages: nilearn\n",
            "Successfully installed nilearn-0.9.1\n"
          ]
        }
      ],
      "source": [
        "pip install nilearn"
      ]
    },
    {
      "cell_type": "code",
      "execution_count": null,
      "metadata": {
        "colab": {
          "base_uri": "https://localhost:8080/"
        },
        "id": "ZuLqMf9Ocb8q",
        "outputId": "e1ed9583-bfd3-46b4-f842-c302833dc718"
      },
      "outputs": [
        {
          "output_type": "stream",
          "name": "stderr",
          "text": [
            "/usr/local/lib/python3.7/dist-packages/nilearn/input_data/__init__.py:27: FutureWarning: The import path 'nilearn.input_data' is deprecated in version 0.9. Importing from 'nilearn.input_data' will be possible at least until release 0.13.0. Please import from 'nilearn.maskers' instead.\n",
            "  warnings.warn(message, FutureWarning)\n"
          ]
        }
      ],
      "source": [
        "import pyinform as pyin\n",
        "from nilearn.input_data import NiftiLabelsMasker\n",
        "from nilearn import connectome\n",
        "from nilearn.input_data import NiftiLabelsMasker\n",
        "\n",
        "def FC_mutual_entropy(time_series):\n",
        "  \"\"\"\n",
        "  Inputs\n",
        "  time_series: Array with number of spikes per unit of time(10ms). File are neurons and columns number of time unit\n",
        "  \n",
        "  Outputs\n",
        "  FC: Array with mutual entropy between neurons, files and columns are neurons\n",
        "  \"\"\"\n",
        "  num_neuronas = len(time_series)\n",
        "  FC = np.zeros((num_neuronas,num_neuronas))\n",
        "  for i in range(num_neuronas):\n",
        "    for j in range(num_neuronas):\n",
        "      if j > i:\n",
        "        FC[i,j] = pyin.mutual_info(time_series[i],time_series[j])\n",
        "  FC = FC + FC.T\n",
        "  return FC\n",
        "\n",
        "def FC_pearson(time_series):\n",
        "  \"\"\"\n",
        "  Inputs\n",
        "  time_series: Array with number of spikes per unit of time(10ms). File are neurons and columns number of time unit\n",
        "  \n",
        "  Outputs\n",
        "  FC: Array with pearson correlation between neurons, files and columns are neurons\n",
        "\n",
        "  \"\"\"\n",
        "  correlation_measure = connectome.ConnectivityMeasure(kind='correlation')\n",
        "  correlation_matrix = correlation_measure.fit_transform([time_series.T])\n",
        "  correlation_matrix = correlation_matrix[0]\n",
        "  np.fill_diagonal(correlation_matrix, 0.0)\n",
        "  return correlation_matrix"
      ]
    },
    {
      "cell_type": "markdown",
      "metadata": {
        "id": "AN-9qaNvSPpH"
      },
      "source": [
        "## ***Explore data***"
      ]
    },
    {
      "cell_type": "markdown",
      "metadata": {
        "id": "mq5GwGm4YBQ6"
      },
      "source": [
        "`alldat` contains 39 sessions from 10 mice, data from Steinmetz et al, 2019. Time bins for all measurements are 10ms, starting 500ms before stimulus onset. The mouse had to determine which side has the highest contrast. For each `dat = alldat[k]`, you have the fields below. For extra variables, check out the extra notebook and extra data files (lfp, waveforms and exact spike times, non-binned). \n",
        "\n",
        "* `dat['mouse_name']`: mouse name\n",
        "* `dat['date_exp']`: when a session was performed\n",
        "* `dat['spks']`: neurons by trials by time bins.    \n",
        "* `dat['brain_area']`: brain area for each neuron recorded. \n",
        "* `dat['ccf']`: Allen Institute brain atlas coordinates for each neuron. \n",
        "* `dat['ccf_axes']`: axes names for the Allen CCF. \n",
        "* `dat['contrast_right']`: contrast level for the right stimulus, which is always contralateral to the recorded brain areas.\n",
        "* `dat['contrast_left']`: contrast level for left stimulus. \n",
        "* `dat['gocue']`: when the go cue sound was played. \n",
        "* `dat['response_time']`: when the response was registered, which has to be after the go cue. The mouse can turn the wheel before the go cue (and nearly always does!), but the stimulus on the screen won't move before the go cue.  \n",
        "* `dat['response']`: which side the response was (`-1`, `0`, `1`). When the right-side stimulus had higher contrast, the correct choice was `-1`. `0` is a no go response. \n",
        "* `dat['feedback_time']`: when feedback was provided. \n",
        "* `dat['feedback_type']`: if the feedback was positive (`+1`, reward) or negative (`-1`, white noise burst).  \n",
        "* `dat['wheel']`: turning speed of the wheel that the mice uses to make a response, sampled at `10ms`. \n",
        "* `dat['pupil']`: pupil area  (noisy, because pupil is very small) + pupil horizontal and vertical position.\n",
        "* `dat['face']`: average face motion energy from a video camera. \n",
        "* `dat['licks']`: lick detections, 0 or 1.   \n",
        "* `dat['trough_to_peak']`: measures the width of the action potential waveform for each neuron. Widths `<=10` samples are \"putative fast spiking neurons\". \n",
        "* `dat['%X%_passive']`: same as above for `X` = {`spks`, `pupil`, `wheel`, `contrast_left`, `contrast_right`} but for  passive trials at the end of the recording when the mouse was no longer engaged and stopped making responses. \n",
        "* `dat['prev_reward']`: time of the feedback (reward/white noise) on the previous trial in relation to the current stimulus time. \n",
        "* `dat['reaction_time']`: ntrials by 2. First column: reaction time computed from the wheel movement as the first sample above `5` ticks/10ms bin. Second column: direction of the wheel movement (`0` = no move detected).  \n",
        "\n",
        "\n",
        "The original dataset is here: https://figshare.com/articles/dataset/Dataset_from_Steinmetz_et_al_2019/9598406"
      ]
    },
    {
      "cell_type": "markdown",
      "metadata": {
        "id": "q3bUab7yU4mp"
      },
      "source": [
        "# ***Number of neurons in midbrain, basal ganglia and whole regions recorded***"
      ]
    },
    {
      "cell_type": "code",
      "execution_count": null,
      "metadata": {
        "colab": {
          "base_uri": "https://localhost:8080/"
        },
        "id": "34VDuxsXM4hg",
        "outputId": "07ff7fc2-bd17-4108-9cdc-372a0a0fe2b3"
      },
      "outputs": [
        {
          "output_type": "stream",
          "name": "stdout",
          "text": [
            "la cantidad de sesiones con neuronas de midbrain y basal ganglia son 7\n",
            "en estas regiones la que tiene menor cantidad de neuronas, tiene 613\n"
          ]
        }
      ],
      "source": [
        "#Esta celda te dice la cantidad de sesiones que presentan regiones de midbrain y basal ganglia al mismo tiempo\n",
        "#También te muestra el número mínimo de neuronas trackeadas en esas sesiones\n",
        "contador = 0\n",
        "ROIS1 = [\"APN\", \"IC\", \"MB\", \"MRN\", \"NB\", \"PAG\", \"RN\", \"SCs\", \"SCm\", \"SCig\", \"SCsg\", \"ZI\"] #midbrain\n",
        "ROIS2  = [\"ACB\", \"CP\", \"GPe\", \"LS\", \"LSc\", \"LSr\", \"MS\", \"OT\", \"SNr\", \"SI\"] # basal ganglia\n",
        "regions = [\"APN\", \"IC\", \"MB\", \"MRN\", \"NB\", \"PAG\", \"RN\", \"SCs\", \"SCm\", \"SCig\", \"SCsg\", \"ZI\",\"ACB\", \"CP\", \"GPe\", \"LS\", \"LSc\", \"LSr\", \"MS\", \"OT\", \"SNr\", \"SI\"]\n",
        "cantidad = []\n",
        "for i in range(39):\n",
        "  datos = alldat[i]\n",
        "  areas = datos['brain_area']\n",
        "  variable = False\n",
        "  for ROI1 in ROIS1: \n",
        "    for ROI2 in ROIS2:\n",
        "      if ROI1 in areas and ROI2 in areas:\n",
        "        contador = contador +1\n",
        "        cantidad.append(len(areas))\n",
        "        variable = True\n",
        "        break\n",
        "    if variable ==True:\n",
        "      break\n",
        "print('la cantidad de sesiones con neuronas de midbrain y basal ganglia son',contador)\n",
        "print('en estas regiones la que tiene menor cantidad de neuronas, tiene',np.min(cantidad))"
      ]
    },
    {
      "cell_type": "code",
      "execution_count": null,
      "metadata": {
        "colab": {
          "base_uri": "https://localhost:8080/"
        },
        "id": "5kLHUNkXUQhb",
        "outputId": "0c05d025-8366-44d3-892f-cf204bc2fbda"
      },
      "outputs": [
        {
          "output_type": "stream",
          "name": "stdout",
          "text": [
            "389 63 1172 9\n",
            "264 23 983 12\n",
            "100 142 743 14\n",
            "175 516 1089 17\n",
            "184 92 646 21\n",
            "41 117 977 30\n",
            "44 398 613 32\n"
          ]
        }
      ],
      "source": [
        "#Miremos las neuronas en las sesiones donde hay tanto midbrain como basal ganglia\n",
        "contador = 0\n",
        "ROIS1 = [\"APN\", \"IC\", \"MB\", \"MRN\", \"NB\", \"PAG\", \"RN\", \"SCs\", \"SCm\", \"SCig\", \"SCsg\", \"ZI\"] #midbrain\n",
        "ROIS2  = [\"ACB\", \"CP\", \"GPe\", \"LS\", \"LSc\", \"LSr\", \"MS\", \"OT\", \"SNr\", \"SI\"] # basal ganglia\n",
        "regions = [\"APN\", \"IC\", \"MB\", \"MRN\", \"NB\", \"PAG\", \"RN\", \"SCs\", \"SCm\", \"SCig\", \"SCsg\", \"ZI\",\"ACB\", \"CP\", \"GPe\", \"LS\", \"LSc\", \"LSr\", \"MS\", \"OT\", \"SNr\", \"SI\"]\n",
        "cantidad = []\n",
        "midbrain_neurons = []\n",
        "basal_neurons = []\n",
        "neurons = []\n",
        "sesiones = []\n",
        "for sesion in range(39):\n",
        "  datos = alldat[sesion]\n",
        "  areas = datos['brain_area']\n",
        "  c_midbrain = 0\n",
        "  c_basal = 0\n",
        "  for region in areas: \n",
        "    if region in ROIS1:\n",
        "      c_midbrain = c_midbrain + 1\n",
        "    if region in ROIS2:\n",
        "      c_basal = c_basal +1\n",
        "  if c_midbrain != 0 and c_basal != 0:\n",
        "    sesiones.append(sesion)\n",
        "    midbrain_neurons.append(c_midbrain)\n",
        "    basal_neurons.append(c_basal)\n",
        "    neurons.append(len(areas))\n",
        "    print(c_midbrain,c_basal,len(areas),sesion)\n",
        "\n",
        "#min neuronas midbrain 41\n",
        "#min neuronas basal ganglia 23\n",
        "#min neuronas sin "
      ]
    },
    {
      "cell_type": "code",
      "execution_count": null,
      "metadata": {
        "colab": {
          "base_uri": "https://localhost:8080/"
        },
        "id": "x79m6YLIrEVS",
        "outputId": "d53c568e-0b37-467e-9324-6895fb760968"
      },
      "outputs": [
        {
          "output_type": "execute_result",
          "data": {
            "text/plain": [
              "171"
            ]
          },
          "metadata": {},
          "execution_count": 12
        }
      ],
      "source": [
        "min_out = 1000000\n",
        "for i in range(len(sesiones)):\n",
        "  if min_out > neurons[i] -(midbrain_neurons[i] + basal_neurons[i]):\n",
        "    min_out = neurons[i] -(midbrain_neurons[i] + basal_neurons[i])\n",
        "min_out"
      ]
    },
    {
      "cell_type": "markdown",
      "metadata": {
        "id": "hgB4voUW7V82"
      },
      "source": [
        "# ***`Construyamos las redes de conectividad funcional`***"
      ]
    },
    {
      "cell_type": "code",
      "execution_count": null,
      "metadata": {
        "id": "vBCmHhYGQYVT"
      },
      "outputs": [],
      "source": [
        "def extract_data(alldat,sesion):\n",
        "  '''\n",
        "  Esta función extrae los spikes posteriores a la recompensa en los trials en los que el contraste de las dos imágenes es igual\n",
        "  inputs\n",
        "  alldat: Archivo con los datos de Steinmetz tal como nos lo entrega neuromatch\n",
        "  sesion: Sesión de la cual queremos extraer los datos\n",
        "  outputs\n",
        "  spikes: lista en la cual sus elementos son arrays conteniendo las series de tiempo de los spikes luego de la recompensa\n",
        "  f_type2: tipo de feedback presentado en ese trial\n",
        "  area: lista con las areas cerebrales asociadas a cada una de las neuronas\n",
        "  '''\n",
        "  datos = alldat[sesion]\n",
        "  #extraigamos las sesiones que nos interesan\n",
        "  rcontrast = datos['contrast_right']\n",
        "  lcontrast = datos['contrast_left']\n",
        "  f_type = datos['feedback_type']\n",
        "  spks = datos['spks']\n",
        "  iguales = rcontrast == lcontrast #cogemos las sesiones donde los contrastes son iguales\n",
        "  spks = spks[:,iguales,:]\n",
        "  f_type2 = f_type[iguales]\n",
        "\n",
        "  #Seleccionemos solo los spks luego de la recompensa\n",
        "  r_time = datos['response_time'] #tiempos de recompensa\n",
        "  r_time = r_time[iguales] #seleccionamos solo las de igual contraste\n",
        "  r_timems = r_time*100 #con esto pasamos los tiempos a decenas de milisegundos\n",
        "  r_timepoint = r_timems.astype(int) #seleccionamos el timepoint correspondiente al milisegundo\n",
        "  spikes = [] #lista que contiene las series de tiempo para cada trial\n",
        "  trials = []\n",
        "  for trial in range(len(spks[0,:,0])):\n",
        "    if r_time[trial] < 2: #solo seleccionamos los trials donde la recompensa se presento antes de 2 seg\n",
        "      spikes.append(spks[ :, trial , r_timepoint[trial][0]:])\n",
        "      trials.append(trial)\n",
        "  trials = np.array(trials)\n",
        "  f_type2=f_type2[trials]\n",
        "  #finalmente saquemos las regiones cerebrales a las que pertenece cada una de las neuronas\n",
        "  area = datos['brain_area']\n",
        "  return spikes, f_type2, area, trials"
      ]
    },
    {
      "cell_type": "code",
      "execution_count": null,
      "metadata": {
        "id": "D5ujHPdvmrg1"
      },
      "outputs": [],
      "source": [
        "for sesion in sesiones:\n",
        "  spikes, f_type, area, trials = extract_data(alldat,sesion)\n",
        "  np.save('/gdrive/Shareddrives/NoNameGroup - NMA/Results/Functional Networks/trials_' + str(sesion),trials)\n",
        "  np.save('/gdrive/Shareddrives/NoNameGroup - NMA/Results/Functional Networks/feedbacktype_' + str(sesion),f_type)\n",
        "  np.save('/gdrive/Shareddrives/NoNameGroup - NMA/Results/Functional Networks/brainareas_' + str(sesion),area)\n",
        "  FCS = np.ones((len(spikes),len(area),len(area)))\n",
        "  for trial in range(len(spikes)):\n",
        "    FC = FC_mutual_entropy(spikes[trial])\n",
        "    FCS[trial] = FC\n",
        "  np.save('/gdrive/Shareddrives/NoNameGroup - NMA/Results/Functional Networks/FC_' + str(sesion),FCS)\n"
      ]
    },
    {
      "cell_type": "code",
      "source": [
        "print(len(spikes))\n",
        "print(f_type.shape)\n",
        "print(FCS.shape)\n",
        "print(trials.shape)"
      ],
      "metadata": {
        "colab": {
          "base_uri": "https://localhost:8080/"
        },
        "id": "gR7VIaMGlL5p",
        "outputId": "87c41242-7734-4dca-b458-c6a1e51716a4"
      },
      "execution_count": null,
      "outputs": [
        {
          "output_type": "stream",
          "name": "stdout",
          "text": [
            "37\n",
            "(37,)\n",
            "(37, 613, 613)\n",
            "(37,)\n"
          ]
        }
      ]
    },
    {
      "cell_type": "code",
      "source": [
        "for sesion in sesiones:\n",
        "  nombre = alldat[sesion]['mouse_name']\n",
        "  print(nombre + 'de la sesion' + str(sesion))"
      ],
      "metadata": {
        "colab": {
          "base_uri": "https://localhost:8080/"
        },
        "id": "7mFdnOQvkYWh",
        "outputId": "b84ee207-cb12-4f34-c373-0bf0149de355"
      },
      "execution_count": null,
      "outputs": [
        {
          "output_type": "stream",
          "name": "stdout",
          "text": [
            "Henchde la sesion9\n",
            "Lederbergde la sesion12\n",
            "Lederbergde la sesion14\n",
            "Lederbergde la sesion17\n",
            "Mullerde la sesion21\n",
            "Richardsde la sesion30\n",
            "Richardsde la sesion32\n"
          ]
        }
      ]
    },
    {
      "cell_type": "code",
      "source": [
        "sesiones = [9,12,14,17,21,30,32]\n",
        "for sesion in sesiones:\n",
        "  datos = alldat[sesion]\n",
        "  #extraigamos las sesiones que nos interesan\n",
        "  rcontrast = datos['contrast_right']\n",
        "  lcontrast = datos['contrast_left']\n",
        "  iguales = rcontrast == lcontrast #cogemos las sesiones donde los contrastes son iguales\n",
        "  np.save('/gdrive/Shareddrives/NoNameGroup - NMA/Results/Functional Networks/trials_' + str(sesion)   , iguales)"
      ],
      "metadata": {
        "id": "R_NvLMHbfixj"
      },
      "execution_count": null,
      "outputs": []
    },
    {
      "cell_type": "code",
      "source": [
        "a = np.array(\n",
        "              [0,1,1,0,1]\n",
        ")\n",
        "b = a ==1\n",
        "c = np.arange(start = 0, stop = len(a), step = 1)\n",
        "d = b*c\n",
        "d = d[np.nonzero(d)]\n",
        "print(d)"
      ],
      "metadata": {
        "colab": {
          "base_uri": "https://localhost:8080/"
        },
        "id": "ARsRSn7ax9um",
        "outputId": "8efb7c8c-055a-4eb2-83b9-6ef2a923d96d"
      },
      "execution_count": null,
      "outputs": [
        {
          "output_type": "stream",
          "name": "stdout",
          "text": [
            "[1 2 4]\n"
          ]
        }
      ]
    },
    {
      "cell_type": "code",
      "source": [
        "a = np.array([1,2,3,4,5,6,7,8,9])\n",
        "b = np.array([8,6,5,4,3,2,1])\n",
        "print(a[b])"
      ],
      "metadata": {
        "colab": {
          "base_uri": "https://localhost:8080/"
        },
        "id": "58ykRuJdkthf",
        "outputId": "b767f7e6-8b1c-46ec-ef72-98c41b88ebe9"
      },
      "execution_count": null,
      "outputs": [
        {
          "output_type": "stream",
          "name": "stdout",
          "text": [
            "[9 7 6 5 4 3 2]\n"
          ]
        }
      ]
    },
    {
      "cell_type": "markdown",
      "source": [
        "# ***Check some functional networks***"
      ],
      "metadata": {
        "id": "T5iwrhHbVPdK"
      }
    },
    {
      "cell_type": "code",
      "execution_count": null,
      "metadata": {
        "id": "XdXNJWTQc9au"
      },
      "outputs": [],
      "source": [
        "#Correspondencia neurona y super región\n",
        "visual = [\"VISa\", \"VISam\", \"VISl\", \"VISp\", \"VISpm\", \"VISrl\"],  # visual cortex\n",
        "talamo = [\"CL\", \"LD\", \"LGd\", \"LH\", \"LP\", \"MD\", \"MG\", \"PO\", \"POL\", \"PT\", \"RT\", \"SPF\", \"TH\", \"VAL\", \"VPL\", \"VPM\"] # thalamus\n",
        "hipocampo = [\"CA\", \"CA1\", \"CA2\", \"CA3\", \"DG\", \"SUB\", \"POST\"],  # hippocampal\n",
        "no_visual = [\"ACA\", \"AUD\", \"COA\", \"DP\", \"ILA\", \"MOp\", \"MOs\", \"OLF\", \"ORB\", \"ORBm\", \"PIR\", \"PL\", \"SSp\", \"SSs\", \"RSP\",\"TT\"]  # non-visual cortex\n",
        "midbrain = [\"APN\", \"IC\", \"MB\", \"MRN\", \"NB\", \"PAG\", \"RN\", \"SCs\", \"SCm\", \"SCig\", \"SCsg\", \"ZI\"]  # midbrain\n",
        "basal_g = [\"ACB\", \"CP\", \"GPe\", \"LS\", \"LSc\", \"LSr\", \"MS\", \"OT\", \"SNr\", \"SI\"]  # basal ganglia\n",
        "cortical_sub = [\"BLA\", \"BMA\", \"EP\", \"EPd\", \"MEA\"]  # cortical subplate\n",
        "sarea = []\n",
        "#0 visual cortex\n",
        "#1 talamo\n",
        "#2 hipocampo\n",
        "#3 no visual cortex\n",
        "#4 midbrain\n",
        "#5 basal ganglia\n",
        "#6 cortical subplates\n",
        "for i in area:\n",
        "  if i in visual:\n",
        "    sarea.append(0)\n",
        "  if i in talamo:\n",
        "    sarea.append(1)\n",
        "  if i in hipocampo:\n",
        "    sarea.append(2)\n",
        "  if i in no_visual:\n",
        "    sarea.append(3)\n",
        "  if i in midbrain:\n",
        "    sarea.append(4)\n",
        "  if i in basal_g:\n",
        "    sarea.append(5)\n",
        "  if i in cortical_sub:\n",
        "    sarea.append(6)"
      ]
    },
    {
      "cell_type": "code",
      "execution_count": null,
      "metadata": {
        "colab": {
          "base_uri": "https://localhost:8080/",
          "height": 287
        },
        "id": "ykIVcpYvSojO",
        "outputId": "00504449-97cd-452b-8d7c-ef23e3452f31"
      },
      "outputs": [
        {
          "name": "stderr",
          "output_type": "stream",
          "text": [
            "/usr/local/lib/python3.7/dist-packages/google/colab/_event_manager.py:26: UserWarning: This figure includes Axes that are not compatible with tight_layout, so results might be incorrect.\n",
            "  func(*args, **kwargs)\n",
            "/usr/local/lib/python3.7/dist-packages/IPython/core/pylabtools.py:125: UserWarning: This figure includes Axes that are not compatible with tight_layout, so results might be incorrect.\n",
            "  fig.canvas.print_figure(bytes_io, **kw)\n"
          ]
        },
        {
          "data": {
            "image/png": "[encoded data removed]",
            "text/plain": [
              "<Figure size 1440x288 with 1 Axes>"
            ]
          },
          "metadata": {},
          "output_type": "display_data"
        }
      ],
      "source": [
        "import networkx as nx \n",
        "grafo = nx.from_numpy_array(FC)\n",
        "Gcc = sorted(nx.connected_components(grafo), key=len, reverse=True)\n",
        "grafo = grafo.subgraph(Gcc[0])\n",
        "nx.draw(grafo)\n"
      ]
    },
    {
      "cell_type": "code",
      "execution_count": null,
      "metadata": {
        "id": "maM8AtZScbNI"
      },
      "outputs": [],
      "source": [
        "nodos = list(grafo.nodes())\n",
        "for j in range(len(nodos)):\n",
        "  grafo.nodes[nodos[j]]['area'] = sarea[j]"
      ]
    },
    {
      "cell_type": "code",
      "execution_count": null,
      "metadata": {
        "id": "kKHdTXFcaOJ8"
      },
      "outputs": [],
      "source": [
        "nx.write_graphml(grafo,'/gdrive/Shareddrives/NoNameGroup - NMA/Resultados/Redes funcionales/FC_reward.graphml')"
      ]
    }
  ],
  "metadata": {
    "colab": {
      "collapsed_sections": [
        "X3z9nAeIrQPR",
        "T5iwrhHbVPdK"
      ],
      "name": "Building FC ",
      "provenance": []
    },
    "kernel": {
      "display_name": "Python 3",
      "language": "python",
      "name": "python3"
    },
    "kernelspec": {
      "display_name": "Python 3",
      "name": "python3"
    }
  },
  "nbformat": 4,
  "nbformat_minor": 0
}