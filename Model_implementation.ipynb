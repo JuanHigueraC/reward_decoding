{
  "nbformat": 4,
  "nbformat_minor": 0,
  "metadata": {
    "colab": {
      "name": "Model_implementation.ipynb",
      "provenance": [],
      "collapsed_sections": []
    },
    "kernelspec": {
      "name": "python3",
      "display_name": "Python 3"
    },
    "language_info": {
      "name": "python"
    }
  },
  "cells": [
    {
      "cell_type": "markdown",
      "source": [
        "# Implementation of logistic regression models + permutation analysis + coefficients"
      ],
      "metadata": {
        "id": "gmSv5eS37L2B"
      }
    },
    {
      "cell_type": "code",
      "source": [
        "from sklearn.linear_model import LogisticRegression\n",
        "from sklearn.model_selection import permutation_test_score\n",
        "from sklearn.model_selection import KFold\n",
        "from sklearn.datasets import make_blobs\n",
        "from sklearn.preprocessing import StandardScaler\n",
        "from sklearn.pipeline import Pipeline\n",
        "\n",
        "import matplotlib.pyplot as plt\n",
        "import pandas as pd\n",
        "import seaborn as sns"
      ],
      "metadata": {
        "id": "1ksL3agE6nWu"
      },
      "execution_count": 1,
      "outputs": []
    },
    {
      "cell_type": "markdown",
      "source": [
        "# Load data"
      ],
      "metadata": {
        "id": "77V8tCeS9_xI"
      }
    },
    {
      "cell_type": "markdown",
      "source": [
        "1. Generate *dummy* data\n",
        "\n"
      ],
      "metadata": {
        "id": "e2PpGdVC7Zhn"
      }
    },
    {
      "cell_type": "code",
      "source": [
        "# X, y = make_blobs(n_samples=500, n_features=7, random_state=0, centers=2)"
      ],
      "metadata": {
        "id": "2a2NutVN7X-S"
      },
      "execution_count": null,
      "outputs": []
    },
    {
      "cell_type": "markdown",
      "source": [
        "2. **Load our own data**"
      ],
      "metadata": {
        "id": "mEyyHHjZ9sW2"
      }
    },
    {
      "cell_type": "code",
      "source": [
        "from google.colab import drive\n",
        "drive.mount('/gdrive')\n",
        "%cd /gdrive\n"
      ],
      "metadata": {
        "colab": {
          "base_uri": "https://localhost:8080/"
        },
        "id": "HqiwKYHH-U_9",
        "outputId": "ced09cdf-25f7-4d46-b0b4-00df6eb1c141"
      },
      "execution_count": 2,
      "outputs": [
        {
          "output_type": "stream",
          "name": "stdout",
          "text": [
            "Mounted at /gdrive\n",
            "/gdrive\n"
          ]
        }
      ]
    },
    {
      "cell_type": "code",
      "source": [
        "sessions = [9,12,14,17,21,30,32]\n",
        "data = []\n",
        "for session in sessions:\n",
        "  dat = pd.read_csv('/gdrive/Shareddrives/NoNameGroup - NMA/Results/Topological measures/all_measures_session_' + str(session)+'.csv')\n",
        "  data.append(dat)"
      ],
      "metadata": {
        "id": "vtajsbEG-Y9K"
      },
      "execution_count": 3,
      "outputs": []
    },
    {
      "cell_type": "markdown",
      "source": [
        "### a. Select just one session"
      ],
      "metadata": {
        "id": "4ZqmEoAHVu4g"
      }
    },
    {
      "cell_type": "code",
      "source": [
        "#df = data[4]"
      ],
      "metadata": {
        "id": "a0SdA1ew-chb"
      },
      "execution_count": null,
      "outputs": []
    },
    {
      "cell_type": "markdown",
      "source": [
        "### b. Select all data"
      ],
      "metadata": {
        "id": "LChIPilkV1Oh"
      }
    },
    {
      "cell_type": "code",
      "source": [
        "df = pd.concat(data)"
      ],
      "metadata": {
        "id": "1qp0LVrPVj20"
      },
      "execution_count": 4,
      "outputs": []
    },
    {
      "cell_type": "code",
      "source": [
        "df.head() "
      ],
      "metadata": {
        "colab": {
          "base_uri": "https://localhost:8080/",
          "height": 317
        },
        "id": "9jNXKlekBVj1",
        "outputId": "4eee5ccc-00e1-4100-a09e-8fc6e2e61280"
      },
      "execution_count": 5,
      "outputs": [
        {
          "output_type": "execute_result",
          "data": {
            "text/plain": [
              "   Unnamed: 0  reward  session  trial  mean_degree  std_degree  \\\n",
              "0           0    -1.0        9      0    26.942339   23.036858   \n",
              "1           1    -1.0        9      1    26.442068   22.174417   \n",
              "2           2    -1.0        9      4    30.085034   25.679664   \n",
              "3           3    -1.0        9      5    65.743590   47.072186   \n",
              "4           4     1.0        9      7    44.633452   36.921637   \n",
              "\n",
              "   entropy_degree  mean_strenght  std_strenght  entropy_strenght  ...  \\\n",
              "0        2.033872       0.822096      0.760760          1.885589  ...   \n",
              "1        1.692113       0.823306      0.753612          1.554402  ...   \n",
              "2        2.034129       0.957317      0.915441          1.884621  ...   \n",
              "3        2.093863       3.580402      2.388864          1.985431  ...   \n",
              "4        2.105685       1.546258      1.443353          2.025719  ...   \n",
              "\n",
              "   std_degree_midbrain  std_degree_basal_ganglia  mean_strenght_midbrain  \\\n",
              "0            23.492852                 33.904438                0.841226   \n",
              "1            20.934174                 40.131987                0.898536   \n",
              "2            22.609441                 36.688260                1.033105   \n",
              "3            49.922501                 77.217935                3.986008   \n",
              "4            37.493441                 46.525075                1.721279   \n",
              "\n",
              "   mean_strenght_basal_ganglia  std_strenght_midbrain  \\\n",
              "0                     0.886837               0.757936   \n",
              "1                     0.936875               0.675810   \n",
              "2                     0.969399               0.788888   \n",
              "3                     3.684876               2.354597   \n",
              "4                     1.549950               1.491969   \n",
              "\n",
              "   std_strenght_basal_ganglia  mean_closeness_midbrain  \\\n",
              "0                    1.175359                 0.015103   \n",
              "1                    1.431362                 0.016019   \n",
              "2                    1.270104                 0.016256   \n",
              "3                    4.109050                 0.042038   \n",
              "4                    1.738904                 0.020644   \n",
              "\n",
              "   mean_closeness_basal_ganglia  std_closeness_midbrain  \\\n",
              "0                      0.014809                0.002123   \n",
              "1                      0.015746                0.002182   \n",
              "2                      0.015684                0.002370   \n",
              "3                      0.040925                0.005045   \n",
              "4                      0.019838                0.003555   \n",
              "\n",
              "   std_closeness_basal_ganglia  \n",
              "0                     0.002617  \n",
              "1                     0.002725  \n",
              "2                     0.002949  \n",
              "3                     0.007258  \n",
              "4                     0.003275  \n",
              "\n",
              "[5 rows x 34 columns]"
            ],
            "text/html": [
              "\n",
              "  <div id=\"df-6a2ed564-70cc-49fb-87aa-025ec530dc30\">\n",
              "    <div class=\"colab-df-container\">\n",
              "      <div>\n",
              "<style scoped>\n",
              "    .dataframe tbody tr th:only-of-type {\n",
              "        vertical-align: middle;\n",
              "    }\n",
              "\n",
              "    .dataframe tbody tr th {\n",
              "        vertical-align: top;\n",
              "    }\n",
              "\n",
              "    .dataframe thead th {\n",
              "        text-align: right;\n",
              "    }\n",
              "</style>\n",
              "<table border=\"1\" class=\"dataframe\">\n",
              "  <thead>\n",
              "    <tr style=\"text-align: right;\">\n",
              "      <th></th>\n",
              "      <th>Unnamed: 0</th>\n",
              "      <th>reward</th>\n",
              "      <th>session</th>\n",
              "      <th>trial</th>\n",
              "      <th>mean_degree</th>\n",
              "      <th>std_degree</th>\n",
              "      <th>entropy_degree</th>\n",
              "      <th>mean_strenght</th>\n",
              "      <th>std_strenght</th>\n",
              "      <th>entropy_strenght</th>\n",
              "      <th>...</th>\n",
              "      <th>std_degree_midbrain</th>\n",
              "      <th>std_degree_basal_ganglia</th>\n",
              "      <th>mean_strenght_midbrain</th>\n",
              "      <th>mean_strenght_basal_ganglia</th>\n",
              "      <th>std_strenght_midbrain</th>\n",
              "      <th>std_strenght_basal_ganglia</th>\n",
              "      <th>mean_closeness_midbrain</th>\n",
              "      <th>mean_closeness_basal_ganglia</th>\n",
              "      <th>std_closeness_midbrain</th>\n",
              "      <th>std_closeness_basal_ganglia</th>\n",
              "    </tr>\n",
              "  </thead>\n",
              "  <tbody>\n",
              "    <tr>\n",
              "      <th>0</th>\n",
              "      <td>0</td>\n",
              "      <td>-1.0</td>\n",
              "      <td>9</td>\n",
              "      <td>0</td>\n",
              "      <td>26.942339</td>\n",
              "      <td>23.036858</td>\n",
              "      <td>2.033872</td>\n",
              "      <td>0.822096</td>\n",
              "      <td>0.760760</td>\n",
              "      <td>1.885589</td>\n",
              "      <td>...</td>\n",
              "      <td>23.492852</td>\n",
              "      <td>33.904438</td>\n",
              "      <td>0.841226</td>\n",
              "      <td>0.886837</td>\n",
              "      <td>0.757936</td>\n",
              "      <td>1.175359</td>\n",
              "      <td>0.015103</td>\n",
              "      <td>0.014809</td>\n",
              "      <td>0.002123</td>\n",
              "      <td>0.002617</td>\n",
              "    </tr>\n",
              "    <tr>\n",
              "      <th>1</th>\n",
              "      <td>1</td>\n",
              "      <td>-1.0</td>\n",
              "      <td>9</td>\n",
              "      <td>1</td>\n",
              "      <td>26.442068</td>\n",
              "      <td>22.174417</td>\n",
              "      <td>1.692113</td>\n",
              "      <td>0.823306</td>\n",
              "      <td>0.753612</td>\n",
              "      <td>1.554402</td>\n",
              "      <td>...</td>\n",
              "      <td>20.934174</td>\n",
              "      <td>40.131987</td>\n",
              "      <td>0.898536</td>\n",
              "      <td>0.936875</td>\n",
              "      <td>0.675810</td>\n",
              "      <td>1.431362</td>\n",
              "      <td>0.016019</td>\n",
              "      <td>0.015746</td>\n",
              "      <td>0.002182</td>\n",
              "      <td>0.002725</td>\n",
              "    </tr>\n",
              "    <tr>\n",
              "      <th>2</th>\n",
              "      <td>2</td>\n",
              "      <td>-1.0</td>\n",
              "      <td>9</td>\n",
              "      <td>4</td>\n",
              "      <td>30.085034</td>\n",
              "      <td>25.679664</td>\n",
              "      <td>2.034129</td>\n",
              "      <td>0.957317</td>\n",
              "      <td>0.915441</td>\n",
              "      <td>1.884621</td>\n",
              "      <td>...</td>\n",
              "      <td>22.609441</td>\n",
              "      <td>36.688260</td>\n",
              "      <td>1.033105</td>\n",
              "      <td>0.969399</td>\n",
              "      <td>0.788888</td>\n",
              "      <td>1.270104</td>\n",
              "      <td>0.016256</td>\n",
              "      <td>0.015684</td>\n",
              "      <td>0.002370</td>\n",
              "      <td>0.002949</td>\n",
              "    </tr>\n",
              "    <tr>\n",
              "      <th>3</th>\n",
              "      <td>3</td>\n",
              "      <td>-1.0</td>\n",
              "      <td>9</td>\n",
              "      <td>5</td>\n",
              "      <td>65.743590</td>\n",
              "      <td>47.072186</td>\n",
              "      <td>2.093863</td>\n",
              "      <td>3.580402</td>\n",
              "      <td>2.388864</td>\n",
              "      <td>1.985431</td>\n",
              "      <td>...</td>\n",
              "      <td>49.922501</td>\n",
              "      <td>77.217935</td>\n",
              "      <td>3.986008</td>\n",
              "      <td>3.684876</td>\n",
              "      <td>2.354597</td>\n",
              "      <td>4.109050</td>\n",
              "      <td>0.042038</td>\n",
              "      <td>0.040925</td>\n",
              "      <td>0.005045</td>\n",
              "      <td>0.007258</td>\n",
              "    </tr>\n",
              "    <tr>\n",
              "      <th>4</th>\n",
              "      <td>4</td>\n",
              "      <td>1.0</td>\n",
              "      <td>9</td>\n",
              "      <td>7</td>\n",
              "      <td>44.633452</td>\n",
              "      <td>36.921637</td>\n",
              "      <td>2.105685</td>\n",
              "      <td>1.546258</td>\n",
              "      <td>1.443353</td>\n",
              "      <td>2.025719</td>\n",
              "      <td>...</td>\n",
              "      <td>37.493441</td>\n",
              "      <td>46.525075</td>\n",
              "      <td>1.721279</td>\n",
              "      <td>1.549950</td>\n",
              "      <td>1.491969</td>\n",
              "      <td>1.738904</td>\n",
              "      <td>0.020644</td>\n",
              "      <td>0.019838</td>\n",
              "      <td>0.003555</td>\n",
              "      <td>0.003275</td>\n",
              "    </tr>\n",
              "  </tbody>\n",
              "</table>\n",
              "<p>5 rows × 34 columns</p>\n",
              "</div>\n",
              "      <button class=\"colab-df-convert\" onclick=\"convertToInteractive('df-6a2ed564-70cc-49fb-87aa-025ec530dc30')\"\n",
              "              title=\"Convert this dataframe to an interactive table.\"\n",
              "              style=\"display:none;\">\n",
              "        \n",
              "  <svg xmlns=\"http://www.w3.org/2000/svg\" height=\"24px\"viewBox=\"0 0 24 24\"\n",
              "       width=\"24px\">\n",
              "    <path d=\"M0 0h24v24H0V0z\" fill=\"none\"/>\n",
              "    <path d=\"M18.56 5.44l.94 2.06.94-2.06 2.06-.94-2.06-.94-.94-2.06-.94 2.06-2.06.94zm-11 1L8.5 8.5l.94-2.06 2.06-.94-2.06-.94L8.5 2.5l-.94 2.06-2.06.94zm10 10l.94 2.06.94-2.06 2.06-.94-2.06-.94-.94-2.06-.94 2.06-2.06.94z\"/><path d=\"M17.41 7.96l-1.37-1.37c-.4-.4-.92-.59-1.43-.59-.52 0-1.04.2-1.43.59L10.3 9.45l-7.72 7.72c-.78.78-.78 2.05 0 2.83L4 21.41c.39.39.9.59 1.41.59.51 0 1.02-.2 1.41-.59l7.78-7.78 2.81-2.81c.8-.78.8-2.07 0-2.86zM5.41 20L4 18.59l7.72-7.72 1.47 1.35L5.41 20z\"/>\n",
              "  </svg>\n",
              "      </button>\n",
              "      \n",
              "  <style>\n",
              "    .colab-df-container {\n",
              "      display:flex;\n",
              "      flex-wrap:wrap;\n",
              "      gap: 12px;\n",
              "    }\n",
              "\n",
              "    .colab-df-convert {\n",
              "      background-color: #E8F0FE;\n",
              "      border: none;\n",
              "      border-radius: 50%;\n",
              "      cursor: pointer;\n",
              "      display: none;\n",
              "      fill: #1967D2;\n",
              "      height: 32px;\n",
              "      padding: 0 0 0 0;\n",
              "      width: 32px;\n",
              "    }\n",
              "\n",
              "    .colab-df-convert:hover {\n",
              "      background-color: #E2EBFA;\n",
              "      box-shadow: 0px 1px 2px rgba(60, 64, 67, 0.3), 0px 1px 3px 1px rgba(60, 64, 67, 0.15);\n",
              "      fill: #174EA6;\n",
              "    }\n",
              "\n",
              "    [theme=dark] .colab-df-convert {\n",
              "      background-color: #3B4455;\n",
              "      fill: #D2E3FC;\n",
              "    }\n",
              "\n",
              "    [theme=dark] .colab-df-convert:hover {\n",
              "      background-color: #434B5C;\n",
              "      box-shadow: 0px 1px 3px 1px rgba(0, 0, 0, 0.15);\n",
              "      filter: drop-shadow(0px 1px 2px rgba(0, 0, 0, 0.3));\n",
              "      fill: #FFFFFF;\n",
              "    }\n",
              "  </style>\n",
              "\n",
              "      <script>\n",
              "        const buttonEl =\n",
              "          document.querySelector('#df-6a2ed564-70cc-49fb-87aa-025ec530dc30 button.colab-df-convert');\n",
              "        buttonEl.style.display =\n",
              "          google.colab.kernel.accessAllowed ? 'block' : 'none';\n",
              "\n",
              "        async function convertToInteractive(key) {\n",
              "          const element = document.querySelector('#df-6a2ed564-70cc-49fb-87aa-025ec530dc30');\n",
              "          const dataTable =\n",
              "            await google.colab.kernel.invokeFunction('convertToInteractive',\n",
              "                                                     [key], {});\n",
              "          if (!dataTable) return;\n",
              "\n",
              "          const docLinkHtml = 'Like what you see? Visit the ' +\n",
              "            '<a target=\"_blank\" href=https://colab.research.google.com/notebooks/data_table.ipynb>data table notebook</a>'\n",
              "            + ' to learn more about interactive tables.';\n",
              "          element.innerHTML = '';\n",
              "          dataTable['output_type'] = 'display_data';\n",
              "          await google.colab.output.renderOutput(dataTable, element);\n",
              "          const docLink = document.createElement('div');\n",
              "          docLink.innerHTML = docLinkHtml;\n",
              "          element.appendChild(docLink);\n",
              "        }\n",
              "      </script>\n",
              "    </div>\n",
              "  </div>\n",
              "  "
            ]
          },
          "metadata": {},
          "execution_count": 5
        }
      ]
    },
    {
      "cell_type": "code",
      "source": [
        "y = df.loc[:,\"reward\"]"
      ],
      "metadata": {
        "id": "cXmFdFzuBqrs"
      },
      "execution_count": 6,
      "outputs": []
    },
    {
      "cell_type": "markdown",
      "source": [
        "Escalamos nuestros datos"
      ],
      "metadata": {
        "id": "JJpktw--By1q"
      }
    },
    {
      "cell_type": "code",
      "source": [
        "#X = df.iloc[:,[2,3,4,5,6,]]\n",
        "X = df.iloc[:,4:]"
      ],
      "metadata": {
        "id": "9cm0VoV8B2ja"
      },
      "execution_count": 7,
      "outputs": []
    },
    {
      "cell_type": "markdown",
      "source": [
        "# Define our statistical model\n",
        "> Logistic regression ( default *Ridge*: 'l2')\n",
        "\n"
      ],
      "metadata": {
        "id": "MXT4WdHG7fzF"
      }
    },
    {
      "cell_type": "code",
      "source": [
        "clf = Pipeline(\n",
        "    [\n",
        "        (\"scaler\", StandardScaler()),\n",
        "        (\"lr\", LogisticRegression()),\n",
        "    ]\n",
        ")"
      ],
      "metadata": {
        "id": "r3eduLeq7e31"
      },
      "execution_count": 8,
      "outputs": []
    },
    {
      "cell_type": "markdown",
      "source": [
        "Define cross validation procedure:\n",
        "> k=5\n",
        "\n"
      ],
      "metadata": {
        "id": "Q09DIrDV8wUi"
      }
    },
    {
      "cell_type": "code",
      "source": [
        "\n",
        "cv = KFold(n_splits=5) \n"
      ],
      "metadata": {
        "id": "75JDKW6J7zHi"
      },
      "execution_count": 9,
      "outputs": []
    },
    {
      "cell_type": "markdown",
      "source": [
        "# We obtain:\n",
        "\n",
        "1.   **Performance of our model**\n",
        "2.   **Performace of permutated data (n=10000 iterations)**\n",
        "3.   ***p* value** associated to the perfromance of our model\n"
      ],
      "metadata": {
        "id": "KL0gmmIE74zO"
      }
    },
    {
      "cell_type": "code",
      "source": [
        "score_data, perm_scores_data, pvalue_data = permutation_test_score(\n",
        "    clf, X, y, scoring=\"accuracy\", cv=cv, n_permutations=10000\n",
        ")"
      ],
      "metadata": {
        "id": "wAwCPjH_70qO"
      },
      "execution_count": 10,
      "outputs": []
    },
    {
      "cell_type": "markdown",
      "source": [
        "# We plot the performance of out model (and its p value) and compare it with permuted data "
      ],
      "metadata": {
        "id": "t26qxOeQ9CCM"
      }
    },
    {
      "cell_type": "code",
      "source": [
        "fig, ax = plt.subplots()\n",
        "\n",
        "ax.hist(perm_scores_data, bins=20, density=True)\n",
        "ax.axvline(score_data, ls=\"--\", color=\"r\")\n",
        "score_label = f\"Score on original\\ndata: {score_data:.2f}\\n(p-value: {pvalue_data:.3f})\"\n",
        "ax.text(0.7, 10, score_label, fontsize=12)\n",
        "ax.set_xlabel(\"Accuracy score\")\n",
        "_ = ax.set_ylabel(\"Probability\")"
      ],
      "metadata": {
        "colab": {
          "base_uri": "https://localhost:8080/",
          "height": 279
        },
        "id": "lCrpoYoZ9PMd",
        "outputId": "64e4444a-f3ab-4b65-db1d-b3d216f2b446"
      },
      "execution_count": 11,
      "outputs": [
        {
          "output_type": "display_data",
          "data": {
            "text/plain": [
              "<Figure size 432x288 with 1 Axes>"
            ],
            "image/png": "[encoded data removed]"
          },
          "metadata": {
            "needs_background": "light"
          }
        }
      ]
    },
    {
      "cell_type": "markdown",
      "source": [
        "# Coefficients' interpretation"
      ],
      "metadata": {
        "id": "k9lhKTqPFjze"
      }
    },
    {
      "cell_type": "code",
      "source": [
        "clf.fit(X, y)"
      ],
      "metadata": {
        "colab": {
          "base_uri": "https://localhost:8080/"
        },
        "id": "Q6XKMe1fFiO3",
        "outputId": "a5a6cb35-264c-449d-b529-8342a5753fed"
      },
      "execution_count": 15,
      "outputs": [
        {
          "output_type": "execute_result",
          "data": {
            "text/plain": [
              "Pipeline(steps=[('scaler', StandardScaler()), ('lr', LogisticRegression())])"
            ]
          },
          "metadata": {},
          "execution_count": 15
        }
      ]
    },
    {
      "cell_type": "code",
      "source": [
        "clf.named_steps['lr'].coef_"
      ],
      "metadata": {
        "colab": {
          "base_uri": "https://localhost:8080/"
        },
        "id": "vZsuhJZ-JyUR",
        "outputId": "96eb3271-023a-4cb2-ce15-c146b62005a9"
      },
      "execution_count": 16,
      "outputs": [
        {
          "output_type": "execute_result",
          "data": {
            "text/plain": [
              "array([[-0.22593691,  0.88159098,  0.63694283, -0.16378417, -0.41303945,\n",
              "        -0.42871913,  0.52083242, -0.5540042 ,  0.145968  ,  0.24098197,\n",
              "         0.43060428, -0.31579617, -0.27297223,  0.39543721,  0.31026948,\n",
              "        -0.86629243, -0.10722153,  0.20943452, -0.70328449, -0.09587838,\n",
              "         0.8059185 ,  0.05309789,  0.01948306,  0.32136952, -0.67432379,\n",
              "        -0.20201744,  0.61129915,  0.40725369,  0.54861151, -0.54861089]])"
            ]
          },
          "metadata": {},
          "execution_count": 16
        }
      ]
    },
    {
      "cell_type": "code",
      "source": [
        "lr_model_coeffs = pd.DataFrame(clf.named_steps['lr'].coef_, columns=X.columns).T.sort_values(0)\n"
      ],
      "metadata": {
        "id": "-sv3mbrGKRzl"
      },
      "execution_count": 17,
      "outputs": []
    },
    {
      "cell_type": "code",
      "source": [
        "sns.set_style('whitegrid')\n",
        "\n",
        "lr_model_coeffs.T.plot(kind='bar', title='Model Coefficients', legend=True, figsize = (10,12), colormap= 'rainbow' )\n",
        "plt.legend(loc='right', bbox_to_anchor=(1.4, .5), fancybox=True, shadow=True)\n",
        "plt.title('Model Coefficients', fontdict={'fontsize':14});"
      ],
      "metadata": {
        "id": "RbWFGCEDKdbL"
      },
      "execution_count": null,
      "outputs": []
    },
    {
      "cell_type": "markdown",
      "source": [
        "### Intercept calculation (i.e. $\\beta$<sub>0</sub>)"
      ],
      "metadata": {
        "id": "DF9JLZU4LBMo"
      }
    },
    {
      "cell_type": "code",
      "source": [
        "print('Intercept value =', clf.named_steps['lr'].intercept_[0])\n"
      ],
      "metadata": {
        "colab": {
          "base_uri": "https://localhost:8080/"
        },
        "id": "3BbO5rUuK3AX",
        "outputId": "6b527de2-5e90-485b-b106-44b44bce5a47"
      },
      "execution_count": 18,
      "outputs": [
        {
          "output_type": "stream",
          "name": "stdout",
          "text": [
            "Intercept value = -0.9640052514349599\n"
          ]
        }
      ]
    },
    {
      "cell_type": "markdown",
      "source": [
        "# Predictos significance\n",
        " Logit estimator from Statsmodels (~glm model de R)"
      ],
      "metadata": {
        "id": "WXGKM0JAL3Z1"
      }
    },
    {
      "cell_type": "code",
      "source": [
        "import statsmodels.api as sm\n",
        "\n",
        "scaler = StandardScaler()\n",
        "X_scale = scaler.fit_transform(X)\n",
        "\n",
        "y = y.replace(-1, 0)\n",
        "y = list(y)"
      ],
      "metadata": {
        "colab": {
          "base_uri": "https://localhost:8080/"
        },
        "id": "gt0ptxQJMZc4",
        "outputId": "c408a321-d313-421d-a22b-3df08545ca9c"
      },
      "execution_count": 19,
      "outputs": [
        {
          "output_type": "stream",
          "name": "stderr",
          "text": [
            "/usr/local/lib/python3.7/dist-packages/statsmodels/tools/_testing.py:19: FutureWarning: pandas.util.testing is deprecated. Use the functions in the public API at pandas.testing instead.\n",
            "  import pandas.util.testing as tm\n"
          ]
        }
      ]
    },
    {
      "cell_type": "code",
      "source": [
        "X_scale_df = pd.DataFrame(data=X_scale, columns=X.columns)"
      ],
      "metadata": {
        "id": "zxIjCc29CFRd"
      },
      "execution_count": 20,
      "outputs": []
    },
    {
      "cell_type": "code",
      "source": [
        "X_scale_df.shape"
      ],
      "metadata": {
        "id": "OEqSF4UcCn7p"
      },
      "execution_count": null,
      "outputs": []
    },
    {
      "cell_type": "code",
      "source": [
        "sm_model = sm.Logit(y, sm.add_constant(X_scale_df)).fit(disp=0)\n",
        "print(sm_model.pvalues)\n",
        "sm_model.summary()"
      ],
      "metadata": {
        "colab": {
          "base_uri": "https://localhost:8080/",
          "height": 1000
        },
        "id": "wJkt1AV_9EQ3",
        "outputId": "034d1698-595d-481c-9c0b-59ef568f3be9"
      },
      "execution_count": 22,
      "outputs": [
        {
          "output_type": "stream",
          "name": "stdout",
          "text": [
            "const                            6.332390e-13\n",
            "mean_degree                      3.823980e-02\n",
            "std_degree                       1.871967e-01\n",
            "entropy_degree                   3.591892e-02\n",
            "mean_strenght                    2.400526e-02\n",
            "std_strenght                     3.017207e-01\n",
            "entropy_strenght                 1.326704e-01\n",
            "mean_closeness                   1.526215e-01\n",
            "std_closeness                    9.179498e-01\n",
            "entropy_closeness                3.436916e-01\n",
            "mean_clustering                  8.591225e-01\n",
            "std_clustering                   1.230474e-01\n",
            "entropy_clustering               1.362391e-01\n",
            "geodd                            5.582519e-01\n",
            "smallworld                       7.746137e-01\n",
            "mean_clustering_midbrain         8.296859e-01\n",
            "mean_clustering_basal_ganglia    4.887497e-03\n",
            "std_clustering_midbrain          8.899756e-02\n",
            "std_clustering_basal_ganglia     4.075429e-01\n",
            "mean_degree_midbrain             2.341356e-03\n",
            "mean_degree_basal_ganglia        6.172575e-02\n",
            "std_degree_midbrain              2.386197e-02\n",
            "std_degree_basal_ganglia         7.485830e-01\n",
            "mean_strenght_midbrain           4.769103e-03\n",
            "mean_strenght_basal_ganglia      1.801403e-02\n",
            "std_strenght_midbrain            2.307834e-02\n",
            "std_strenght_basal_ganglia       7.728741e-01\n",
            "mean_closeness_midbrain          5.115830e-01\n",
            "mean_closeness_basal_ganglia     2.352863e-01\n",
            "std_closeness_midbrain           2.120153e-01\n",
            "std_closeness_basal_ganglia      1.469267e-01\n",
            "dtype: float64\n"
          ]
        },
        {
          "output_type": "stream",
          "name": "stderr",
          "text": [
            "/usr/local/lib/python3.7/dist-packages/statsmodels/tsa/tsatools.py:117: FutureWarning: In a future version of pandas all arguments of concat except for the argument 'objs' will be keyword-only\n",
            "  x = pd.concat(x[::order], 1)\n"
          ]
        },
        {
          "output_type": "execute_result",
          "data": {
            "text/plain": [
              "<class 'statsmodels.iolib.summary.Summary'>\n",
              "\"\"\"\n",
              "                           Logit Regression Results                           \n",
              "==============================================================================\n",
              "Dep. Variable:                      y   No. Observations:                  448\n",
              "Model:                          Logit   Df Residuals:                      417\n",
              "Method:                           MLE   Df Model:                           30\n",
              "Date:                Sat, 30 Jul 2022   Pseudo R-squ.:                  0.2839\n",
              "Time:                        01:30:35   Log-Likelihood:                -196.34\n",
              "converged:                       True   LL-Null:                       -274.17\n",
              "Covariance Type:            nonrobust   LLR p-value:                 6.565e-19\n",
              "=================================================================================================\n",
              "                                    coef    std err          z      P>|z|      [0.025      0.975]\n",
              "-------------------------------------------------------------------------------------------------\n",
              "const                            -0.9812      0.136     -7.193      0.000      -1.249      -0.714\n",
              "mean_degree                       8.5076      4.105      2.072      0.038       0.461      16.554\n",
              "std_degree                        4.1305      3.132      1.319      0.187      -2.008      10.269\n",
              "entropy_degree                    1.1074      0.528      2.098      0.036       0.073       2.142\n",
              "mean_strenght                   -14.7303      6.526     -2.257      0.024     -27.522      -1.939\n",
              "std_strenght                     -4.3747      4.236     -1.033      0.302     -12.677       3.928\n",
              "entropy_strenght                 -0.8811      0.586     -1.504      0.133      -2.030       0.267\n",
              "mean_closeness                   11.9343      8.344      1.430      0.153      -4.419      28.288\n",
              "std_closeness                    -0.1763      1.711     -0.103      0.918      -3.530       3.178\n",
              "entropy_closeness                 0.2113      0.223      0.947      0.344      -0.226       0.649\n",
              "mean_clustering                   0.5732      3.229      0.177      0.859      -5.756       6.903\n",
              "std_clustering                    0.8173      0.530      1.542      0.123      -0.221       1.856\n",
              "entropy_clustering               -0.3286      0.221     -1.490      0.136      -0.761       0.104\n",
              "geodd                             0.4708      0.804      0.585      0.558      -1.105       2.047\n",
              "smallworld                        1.2586      4.395      0.286      0.775      -7.356       9.874\n",
              "mean_clustering_midbrain          0.2127      0.989      0.215      0.830      -1.725       2.150\n",
              "mean_clustering_basal_ganglia    -1.8787      0.668     -2.814      0.005      -3.187      -0.570\n",
              "std_clustering_midbrain          -0.6252      0.368     -1.701      0.089      -1.346       0.095\n",
              "std_clustering_basal_ganglia      0.2346      0.283      0.828      0.408      -0.321       0.790\n",
              "mean_degree_midbrain            -10.3801      3.411     -3.043      0.002     -17.066      -3.695\n",
              "mean_degree_basal_ganglia        -5.1903      2.778     -1.868      0.062     -10.635       0.255\n",
              "std_degree_midbrain               4.9647      2.197      2.259      0.024       0.658       9.272\n",
              "std_degree_basal_ganglia          0.4816      1.503      0.321      0.749      -2.463       3.427\n",
              "mean_strenght_midbrain           12.9831      4.600      2.822      0.005       3.967      21.999\n",
              "mean_strenght_basal_ganglia       7.7724      3.286      2.365      0.018       1.332      14.213\n",
              "std_strenght_midbrain            -5.3080      2.336     -2.272      0.023      -9.887      -0.729\n",
              "std_strenght_basal_ganglia       -0.4971      1.722     -0.289      0.773      -3.873       2.879\n",
              "mean_closeness_midbrain          -4.1026      6.250     -0.656      0.512     -16.353       8.148\n",
              "mean_closeness_basal_ganglia     -4.7851      4.032     -1.187      0.235     -12.687       3.117\n",
              "std_closeness_midbrain            1.3614      1.091      1.248      0.212      -0.777       3.499\n",
              "std_closeness_basal_ganglia      -1.0446      0.720     -1.450      0.147      -2.456       0.367\n",
              "=================================================================================================\n",
              "\"\"\""
            ],
            "text/html": [
              "<table class=\"simpletable\">\n",
              "<caption>Logit Regression Results</caption>\n",
              "<tr>\n",
              "  <th>Dep. Variable:</th>           <td>y</td>        <th>  No. Observations:  </th>  <td>   448</td>  \n",
              "</tr>\n",
              "<tr>\n",
              "  <th>Model:</th>                 <td>Logit</td>      <th>  Df Residuals:      </th>  <td>   417</td>  \n",
              "</tr>\n",
              "<tr>\n",
              "  <th>Method:</th>                 <td>MLE</td>       <th>  Df Model:          </th>  <td>    30</td>  \n",
              "</tr>\n",
              "<tr>\n",
              "  <th>Date:</th>            <td>Sat, 30 Jul 2022</td> <th>  Pseudo R-squ.:     </th>  <td>0.2839</td>  \n",
              "</tr>\n",
              "<tr>\n",
              "  <th>Time:</th>                <td>01:30:35</td>     <th>  Log-Likelihood:    </th> <td> -196.34</td> \n",
              "</tr>\n",
              "<tr>\n",
              "  <th>converged:</th>             <td>True</td>       <th>  LL-Null:           </th> <td> -274.17</td> \n",
              "</tr>\n",
              "<tr>\n",
              "  <th>Covariance Type:</th>     <td>nonrobust</td>    <th>  LLR p-value:       </th> <td>6.565e-19</td>\n",
              "</tr>\n",
              "</table>\n",
              "<table class=\"simpletable\">\n",
              "<tr>\n",
              "                <td></td>                   <th>coef</th>     <th>std err</th>      <th>z</th>      <th>P>|z|</th>  <th>[0.025</th>    <th>0.975]</th>  \n",
              "</tr>\n",
              "<tr>\n",
              "  <th>const</th>                         <td>   -0.9812</td> <td>    0.136</td> <td>   -7.193</td> <td> 0.000</td> <td>   -1.249</td> <td>   -0.714</td>\n",
              "</tr>\n",
              "<tr>\n",
              "  <th>mean_degree</th>                   <td>    8.5076</td> <td>    4.105</td> <td>    2.072</td> <td> 0.038</td> <td>    0.461</td> <td>   16.554</td>\n",
              "</tr>\n",
              "<tr>\n",
              "  <th>std_degree</th>                    <td>    4.1305</td> <td>    3.132</td> <td>    1.319</td> <td> 0.187</td> <td>   -2.008</td> <td>   10.269</td>\n",
              "</tr>\n",
              "<tr>\n",
              "  <th>entropy_degree</th>                <td>    1.1074</td> <td>    0.528</td> <td>    2.098</td> <td> 0.036</td> <td>    0.073</td> <td>    2.142</td>\n",
              "</tr>\n",
              "<tr>\n",
              "  <th>mean_strenght</th>                 <td>  -14.7303</td> <td>    6.526</td> <td>   -2.257</td> <td> 0.024</td> <td>  -27.522</td> <td>   -1.939</td>\n",
              "</tr>\n",
              "<tr>\n",
              "  <th>std_strenght</th>                  <td>   -4.3747</td> <td>    4.236</td> <td>   -1.033</td> <td> 0.302</td> <td>  -12.677</td> <td>    3.928</td>\n",
              "</tr>\n",
              "<tr>\n",
              "  <th>entropy_strenght</th>              <td>   -0.8811</td> <td>    0.586</td> <td>   -1.504</td> <td> 0.133</td> <td>   -2.030</td> <td>    0.267</td>\n",
              "</tr>\n",
              "<tr>\n",
              "  <th>mean_closeness</th>                <td>   11.9343</td> <td>    8.344</td> <td>    1.430</td> <td> 0.153</td> <td>   -4.419</td> <td>   28.288</td>\n",
              "</tr>\n",
              "<tr>\n",
              "  <th>std_closeness</th>                 <td>   -0.1763</td> <td>    1.711</td> <td>   -0.103</td> <td> 0.918</td> <td>   -3.530</td> <td>    3.178</td>\n",
              "</tr>\n",
              "<tr>\n",
              "  <th>entropy_closeness</th>             <td>    0.2113</td> <td>    0.223</td> <td>    0.947</td> <td> 0.344</td> <td>   -0.226</td> <td>    0.649</td>\n",
              "</tr>\n",
              "<tr>\n",
              "  <th>mean_clustering</th>               <td>    0.5732</td> <td>    3.229</td> <td>    0.177</td> <td> 0.859</td> <td>   -5.756</td> <td>    6.903</td>\n",
              "</tr>\n",
              "<tr>\n",
              "  <th>std_clustering</th>                <td>    0.8173</td> <td>    0.530</td> <td>    1.542</td> <td> 0.123</td> <td>   -0.221</td> <td>    1.856</td>\n",
              "</tr>\n",
              "<tr>\n",
              "  <th>entropy_clustering</th>            <td>   -0.3286</td> <td>    0.221</td> <td>   -1.490</td> <td> 0.136</td> <td>   -0.761</td> <td>    0.104</td>\n",
              "</tr>\n",
              "<tr>\n",
              "  <th>geodd</th>                         <td>    0.4708</td> <td>    0.804</td> <td>    0.585</td> <td> 0.558</td> <td>   -1.105</td> <td>    2.047</td>\n",
              "</tr>\n",
              "<tr>\n",
              "  <th>smallworld</th>                    <td>    1.2586</td> <td>    4.395</td> <td>    0.286</td> <td> 0.775</td> <td>   -7.356</td> <td>    9.874</td>\n",
              "</tr>\n",
              "<tr>\n",
              "  <th>mean_clustering_midbrain</th>      <td>    0.2127</td> <td>    0.989</td> <td>    0.215</td> <td> 0.830</td> <td>   -1.725</td> <td>    2.150</td>\n",
              "</tr>\n",
              "<tr>\n",
              "  <th>mean_clustering_basal_ganglia</th> <td>   -1.8787</td> <td>    0.668</td> <td>   -2.814</td> <td> 0.005</td> <td>   -3.187</td> <td>   -0.570</td>\n",
              "</tr>\n",
              "<tr>\n",
              "  <th>std_clustering_midbrain</th>       <td>   -0.6252</td> <td>    0.368</td> <td>   -1.701</td> <td> 0.089</td> <td>   -1.346</td> <td>    0.095</td>\n",
              "</tr>\n",
              "<tr>\n",
              "  <th>std_clustering_basal_ganglia</th>  <td>    0.2346</td> <td>    0.283</td> <td>    0.828</td> <td> 0.408</td> <td>   -0.321</td> <td>    0.790</td>\n",
              "</tr>\n",
              "<tr>\n",
              "  <th>mean_degree_midbrain</th>          <td>  -10.3801</td> <td>    3.411</td> <td>   -3.043</td> <td> 0.002</td> <td>  -17.066</td> <td>   -3.695</td>\n",
              "</tr>\n",
              "<tr>\n",
              "  <th>mean_degree_basal_ganglia</th>     <td>   -5.1903</td> <td>    2.778</td> <td>   -1.868</td> <td> 0.062</td> <td>  -10.635</td> <td>    0.255</td>\n",
              "</tr>\n",
              "<tr>\n",
              "  <th>std_degree_midbrain</th>           <td>    4.9647</td> <td>    2.197</td> <td>    2.259</td> <td> 0.024</td> <td>    0.658</td> <td>    9.272</td>\n",
              "</tr>\n",
              "<tr>\n",
              "  <th>std_degree_basal_ganglia</th>      <td>    0.4816</td> <td>    1.503</td> <td>    0.321</td> <td> 0.749</td> <td>   -2.463</td> <td>    3.427</td>\n",
              "</tr>\n",
              "<tr>\n",
              "  <th>mean_strenght_midbrain</th>        <td>   12.9831</td> <td>    4.600</td> <td>    2.822</td> <td> 0.005</td> <td>    3.967</td> <td>   21.999</td>\n",
              "</tr>\n",
              "<tr>\n",
              "  <th>mean_strenght_basal_ganglia</th>   <td>    7.7724</td> <td>    3.286</td> <td>    2.365</td> <td> 0.018</td> <td>    1.332</td> <td>   14.213</td>\n",
              "</tr>\n",
              "<tr>\n",
              "  <th>std_strenght_midbrain</th>         <td>   -5.3080</td> <td>    2.336</td> <td>   -2.272</td> <td> 0.023</td> <td>   -9.887</td> <td>   -0.729</td>\n",
              "</tr>\n",
              "<tr>\n",
              "  <th>std_strenght_basal_ganglia</th>    <td>   -0.4971</td> <td>    1.722</td> <td>   -0.289</td> <td> 0.773</td> <td>   -3.873</td> <td>    2.879</td>\n",
              "</tr>\n",
              "<tr>\n",
              "  <th>mean_closeness_midbrain</th>       <td>   -4.1026</td> <td>    6.250</td> <td>   -0.656</td> <td> 0.512</td> <td>  -16.353</td> <td>    8.148</td>\n",
              "</tr>\n",
              "<tr>\n",
              "  <th>mean_closeness_basal_ganglia</th>  <td>   -4.7851</td> <td>    4.032</td> <td>   -1.187</td> <td> 0.235</td> <td>  -12.687</td> <td>    3.117</td>\n",
              "</tr>\n",
              "<tr>\n",
              "  <th>std_closeness_midbrain</th>        <td>    1.3614</td> <td>    1.091</td> <td>    1.248</td> <td> 0.212</td> <td>   -0.777</td> <td>    3.499</td>\n",
              "</tr>\n",
              "<tr>\n",
              "  <th>std_closeness_basal_ganglia</th>   <td>   -1.0446</td> <td>    0.720</td> <td>   -1.450</td> <td> 0.147</td> <td>   -2.456</td> <td>    0.367</td>\n",
              "</tr>\n",
              "</table>"
            ]
          },
          "metadata": {},
          "execution_count": 22
        }
      ]
    },
    {
      "cell_type": "code",
      "source": [
        ""
      ],
      "metadata": {
        "id": "2SOnFn9PJcZ7"
      },
      "execution_count": null,
      "outputs": []
    },
    {
      "cell_type": "markdown",
      "source": [
        "# ***In case we want to balance our data***"
      ],
      "metadata": {
        "id": "l4DO22G0Jcmp"
      }
    },
    {
      "cell_type": "code",
      "source": [
        "dfreward = df[df['reward'] > 0]\n",
        "lenreward = len(dfreward['reward'])\n",
        "dfnoreward = df[df['reward'] <0]\n",
        "lennoreward = len(dfnoreward['reward'])\n",
        "minimo = min([lenreward,lennoreward])\n",
        "df = pd.concat([dfreward[0:minimo],dfnoreward[0:minimo]])\n",
        "print(lenreward,lennoreward)"
      ],
      "metadata": {
        "colab": {
          "base_uri": "https://localhost:8080/"
        },
        "id": "PVh7463_FWzm",
        "outputId": "6aee9653-0002-45fa-c175-86cb8832eb81"
      },
      "execution_count": null,
      "outputs": [
        {
          "output_type": "stream",
          "name": "stdout",
          "text": [
            "135 135\n"
          ]
        }
      ]
    }
  ]
}