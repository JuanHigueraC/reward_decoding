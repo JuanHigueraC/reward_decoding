{
  "nbformat": 4,
  "nbformat_minor": 0,
  "metadata": {
    "colab": {
      "name": "PCA .ipynb",
      "provenance": []
    },
    "kernelspec": {
      "name": "python3",
      "display_name": "Python 3"
    },
    "language_info": {
      "name": "python"
    }
  },
  "cells": [
    {
      "cell_type": "code",
      "execution_count": 1,
      "metadata": {
        "id": "gGXBkcqF3PKE"
      },
      "outputs": [],
      "source": [
        "import pandas as pd\n",
        "import numpy as np\n",
        "import matplotlib.pyplot as plt\n",
        "from scipy.stats import zscore\n",
        "from sklearn.decomposition import PCA"
      ]
    },
    {
      "cell_type": "code",
      "source": [
        "from google.colab import drive\n",
        "drive.mount('/gdrive')\n",
        "%cd /gdrive"
      ],
      "metadata": {
        "colab": {
          "base_uri": "https://localhost:8080/"
        },
        "id": "pM9C5ssn5wNs",
        "outputId": "bd860fb6-9be0-4baa-e1f4-cfb1f9940f0c"
      },
      "execution_count": 3,
      "outputs": [
        {
          "output_type": "stream",
          "name": "stdout",
          "text": [
            "Mounted at /gdrive\n",
            "/gdrive\n"
          ]
        }
      ]
    },
    {
      "cell_type": "code",
      "source": [
        "sessions = [9,12,14,17,21,30,32]\n",
        "data = []\n",
        "for session in sessions:\n",
        "  dat = pd.read_csv('/gdrive/Shareddrives/NoNameGroup - NMA/Results/Topological measures/all_measures_session_' + str(session)+'.csv')\n",
        "  data.append(dat)"
      ],
      "metadata": {
        "id": "c6PF4zPw5yW7"
      },
      "execution_count": 4,
      "outputs": []
    },
    {
      "cell_type": "code",
      "source": [
        "dataframe = data[2]\n",
        "print(dataframe.keys())"
      ],
      "metadata": {
        "colab": {
          "base_uri": "https://localhost:8080/"
        },
        "id": "Rtrq_k5ZAGDv",
        "outputId": "63b48da6-7cfb-49a8-d84b-bc98bb5ff496"
      },
      "execution_count": 5,
      "outputs": [
        {
          "output_type": "stream",
          "name": "stdout",
          "text": [
            "Index(['Unnamed: 0', 'reward', 'session', 'trial', 'mean_degree', 'std_degree',\n",
            "       'entropy_degree', 'mean_strenght', 'std_strenght', 'entropy_strenght',\n",
            "       'mean_closeness', 'std_closeness', 'entropy_closeness',\n",
            "       'mean_clustering', 'std_clustering', 'entropy_clustering', 'geodd',\n",
            "       'smallworld', 'mean_clustering_midbrain',\n",
            "       'mean_clustering_basal_ganglia', 'std_clustering_midbrain',\n",
            "       'std_clustering_basal_ganglia', 'mean_degree_midbrain',\n",
            "       'mean_degree_basal_ganglia', 'std_degree_midbrain',\n",
            "       'std_degree_basal_ganglia', 'mean_strenght_midbrain',\n",
            "       'mean_strenght_basal_ganglia', 'std_strenght_midbrain',\n",
            "       'std_strenght_basal_ganglia', 'mean_closeness_midbrain',\n",
            "       'mean_closeness_basal_ganglia', 'std_closeness_midbrain',\n",
            "       'std_closeness_basal_ganglia'],\n",
            "      dtype='object')\n"
          ]
        }
      ]
    },
    {
      "cell_type": "markdown",
      "source": [
        ""
      ],
      "metadata": {
        "id": "pIq8kQCgBImc"
      }
    },
    {
      "cell_type": "code",
      "source": [
        "\n",
        "\n",
        "for k in range(len(sessions)):\n",
        "  dataframe = data[k]\n",
        "  rewards = np.array(list(dataframe['reward']))\n",
        "  datareward = dataframe[dataframe['reward'] >0]\n",
        "  datanoreward = dataframe[dataframe['reward'] <0]\n",
        "  data2 = pd.concat([datareward, datanoreward], axis=0)\n",
        "  data2['reward'] = data2['reward'].astype(str)\n",
        "  dataglob = data2[['mean_degree', 'std_degree',\n",
        "        'entropy_degree', 'mean_strenght', 'std_strenght', 'entropy_strenght',\n",
        "        'mean_closeness', 'std_closeness', 'entropy_closeness',\n",
        "        'mean_clustering', 'std_clustering', 'entropy_clustering', 'geodd',\n",
        "        'smallworld']]\n",
        "\n",
        "  dataloc = data2[['mean_clustering_basal_ganglia', 'std_clustering_midbrain',\n",
        "        'std_clustering_basal_ganglia', 'mean_degree_midbrain',\n",
        "        'mean_degree_basal_ganglia', 'std_degree_midbrain',\n",
        "        'std_degree_basal_ganglia', 'mean_strenght_midbrain',\n",
        "        'mean_strenght_basal_ganglia', 'std_strenght_midbrain',\n",
        "        'std_strenght_basal_ganglia', 'mean_closeness_midbrain',\n",
        "        'mean_closeness_basal_ganglia', 'std_closeness_midbrain',\n",
        "        'std_closeness_basal_ganglia']]\n",
        "\n",
        "\n",
        "  #####\n",
        "  valoresglob = dataglob.values\n",
        "  valoresglob = valoresglob.T\n",
        "\n",
        "\n",
        "  valoresloc = dataloc.values\n",
        "  valoresloc = valoresloc.T\n",
        "\n",
        "\n",
        "  for i in range(len(valoresglob)):\n",
        "    valoresglob[i,:] = (valoresglob[i,:] - np.mean(valoresglob[i,:]))/np.std(valoresglob[i,:])\n",
        "    #valoresglob[i,:] = valoresglob[i,:]/np.max(valoresglob[i,:])\n",
        "  modelglob = PCA(n_components=14).fit(valoresglob)\n",
        "  Wglob = modelglob.components_\n",
        "\n",
        "  for i in range(len(valoresloc)):\n",
        "    valoresloc[i,:] = (valoresloc[i,:] - np.mean(valoresloc[i,:]))/np.std(valoresloc[i,:])\n",
        "    #valoresloc[i,:] = valoresloc[i,:]/np.max(valoresloc[i,:])\n",
        "  modelloc = PCA(n_components=14).fit(valoresloc)\n",
        "  Wloc = modelloc.components_\n",
        "\n",
        "  newdataloc = np.stack((rewards,Wloc[0], Wloc[1],Wloc[2],Wloc[3],Wloc[4],Wloc[5],Wloc[6],Wloc[7],Wloc[8],Wloc[9],Wloc[10],Wloc[11],Wloc[12],Wloc[13]), axis=0)\n",
        "  newdataglob = np.stack((rewards,Wglob[0], Wglob[1],Wglob[2],Wglob[3],Wglob[4],Wglob[5],Wglob[6],Wglob[7],Wglob[8],Wglob[9],Wglob[10],Wglob[11],Wglob[12],Wglob[13]), axis=0)\n",
        "  newdatatot = np.stack((rewards,Wloc[0], Wloc[1],Wloc[2],Wloc[3],Wloc[4],Wloc[5],Wloc[6],Wloc[7],Wloc[8],Wloc[9],Wloc[10],Wloc[11],Wloc[12],Wloc[13],Wglob[0], Wglob[1],Wglob[2],Wglob[3],Wglob[4],Wglob[5],Wglob[6],Wglob[7],Wglob[8],Wglob[9],Wglob[10],Wglob[11],Wglob[12],Wglob[13]))\n",
        "  newdataloc = newdataloc.T\n",
        "  newdataglob = newdataglob.T\n",
        "  newdatatot = newdatatot.T\n",
        "  dfloc = pd.DataFrame(newdataloc, columns = ['reward','1C','2C','3C','4C','5C','6C','7C','8C','9C','10C','11C','12C','13C','14C'])\n",
        "  dfglob = pd.DataFrame(newdataglob, columns = ['reward','1C','2C','3C','4C','5C','6C','7C','8C','9C','10C','11C','12C','13C','14C'])\n",
        "  dftot = pd.DataFrame(newdatatot, columns = ['reward', '1C Global','2C Global','3C Global','4C Global','5C Global','6C Global','7C Global','8C Global','9C Global','10C Global','11C Global','12C Global','13C Global','14C Global','1C Local','2C Local','3C Local','4C Local','5C Local','6C Local','7C Local','8C Local','9C Local','10C Local','11C Local','12C Local','13C Local','14C Local'] )\n",
        "  dfloc.to_csv('/gdrive/Shareddrives/NoNameGroup - NMA/Results/Topological measures/PCA_glob_measures_session_' + str(sessions[k])+'.csv' )\n",
        "  dfglob.to_csv('/gdrive/Shareddrives/NoNameGroup - NMA/Results/Topological measures/PCA_loc_measures_session_' + str(sessions[k])+'.csv' )\n",
        "  dftot.to_csv('/gdrive/Shareddrives/NoNameGroup - NMA/Results/Topological measures/PCA_tot_measures_session_' + str(sessions[k])+'.csv')"
      ],
      "metadata": {
        "id": "BFi6SHLNBqxI"
      },
      "execution_count": 6,
      "outputs": []
    },
    {
      "cell_type": "code",
      "source": [
        "Wloc.shape"
      ],
      "metadata": {
        "colab": {
          "base_uri": "https://localhost:8080/"
        },
        "id": "jhboNMFHDBdd",
        "outputId": "644f9fc5-4020-42fe-b0c3-4b828daf2ffa"
      },
      "execution_count": null,
      "outputs": [
        {
          "output_type": "execute_result",
          "data": {
            "text/plain": [
              "(14, 37)"
            ]
          },
          "metadata": {},
          "execution_count": 55
        }
      ]
    },
    {
      "cell_type": "code",
      "source": [
        "import pandas as pd\n",
        "import plotly as pl\n",
        "import plotly.express as px"
      ],
      "metadata": {
        "id": "SV2BpPI3Q4uA"
      },
      "execution_count": 7,
      "outputs": []
    },
    {
      "cell_type": "code",
      "source": [
        "dataframe = dftot \n",
        "datareward = dataframe[dataframe['reward'] >0]\n",
        "datanoreward = dataframe[dataframe['reward'] <0]\n",
        "data2 = pd.concat([datareward, datanoreward], axis=0)\n",
        "data2['reward'] = data2['reward'].astype(str)"
      ],
      "metadata": {
        "id": "W2u5fnGYQ4wm"
      },
      "execution_count": 8,
      "outputs": []
    },
    {
      "cell_type": "code",
      "source": [
        ""
      ],
      "metadata": {
        "colab": {
          "base_uri": "https://localhost:8080/",
          "height": 424
        },
        "id": "041W4VopCf9v",
        "outputId": "4eda3372-267f-47ba-9fe0-af8a853aa7f0"
      },
      "execution_count": null,
      "outputs": [
        {
          "output_type": "execute_result",
          "data": {
            "text/plain": [
              "    reward  1st component  2nd component  3rd component\n",
              "0     -1.0      -0.171000      -0.269484      -0.085803\n",
              "1     -1.0      -0.062407       0.035243       0.040298\n",
              "2     -1.0      -0.154075       0.063615       0.023834\n",
              "3      1.0      -0.041677       0.139368       0.162552\n",
              "4     -1.0      -0.059175       0.109210      -0.121080\n",
              "..     ...            ...            ...            ...\n",
              "75     1.0       0.157715      -0.010525       0.035347\n",
              "76     1.0      -0.023638       0.191989      -0.011497\n",
              "77     1.0       0.021226       0.028071       0.062816\n",
              "78    -1.0       0.146794       0.049901      -0.164995\n",
              "79     1.0       0.161476      -0.103022       0.114823\n",
              "\n",
              "[80 rows x 4 columns]"
            ],
            "text/html": [
              "\n",
              "  <div id=\"df-04572866-a395-4429-bec9-46bda346e6b5\">\n",
              "    <div class=\"colab-df-container\">\n",
              "      <div>\n",
              "<style scoped>\n",
              "    .dataframe tbody tr th:only-of-type {\n",
              "        vertical-align: middle;\n",
              "    }\n",
              "\n",
              "    .dataframe tbody tr th {\n",
              "        vertical-align: top;\n",
              "    }\n",
              "\n",
              "    .dataframe thead th {\n",
              "        text-align: right;\n",
              "    }\n",
              "</style>\n",
              "<table border=\"1\" class=\"dataframe\">\n",
              "  <thead>\n",
              "    <tr style=\"text-align: right;\">\n",
              "      <th></th>\n",
              "      <th>reward</th>\n",
              "      <th>1st component</th>\n",
              "      <th>2nd component</th>\n",
              "      <th>3rd component</th>\n",
              "    </tr>\n",
              "  </thead>\n",
              "  <tbody>\n",
              "    <tr>\n",
              "      <th>0</th>\n",
              "      <td>-1.0</td>\n",
              "      <td>-0.171000</td>\n",
              "      <td>-0.269484</td>\n",
              "      <td>-0.085803</td>\n",
              "    </tr>\n",
              "    <tr>\n",
              "      <th>1</th>\n",
              "      <td>-1.0</td>\n",
              "      <td>-0.062407</td>\n",
              "      <td>0.035243</td>\n",
              "      <td>0.040298</td>\n",
              "    </tr>\n",
              "    <tr>\n",
              "      <th>2</th>\n",
              "      <td>-1.0</td>\n",
              "      <td>-0.154075</td>\n",
              "      <td>0.063615</td>\n",
              "      <td>0.023834</td>\n",
              "    </tr>\n",
              "    <tr>\n",
              "      <th>3</th>\n",
              "      <td>1.0</td>\n",
              "      <td>-0.041677</td>\n",
              "      <td>0.139368</td>\n",
              "      <td>0.162552</td>\n",
              "    </tr>\n",
              "    <tr>\n",
              "      <th>4</th>\n",
              "      <td>-1.0</td>\n",
              "      <td>-0.059175</td>\n",
              "      <td>0.109210</td>\n",
              "      <td>-0.121080</td>\n",
              "    </tr>\n",
              "    <tr>\n",
              "      <th>...</th>\n",
              "      <td>...</td>\n",
              "      <td>...</td>\n",
              "      <td>...</td>\n",
              "      <td>...</td>\n",
              "    </tr>\n",
              "    <tr>\n",
              "      <th>75</th>\n",
              "      <td>1.0</td>\n",
              "      <td>0.157715</td>\n",
              "      <td>-0.010525</td>\n",
              "      <td>0.035347</td>\n",
              "    </tr>\n",
              "    <tr>\n",
              "      <th>76</th>\n",
              "      <td>1.0</td>\n",
              "      <td>-0.023638</td>\n",
              "      <td>0.191989</td>\n",
              "      <td>-0.011497</td>\n",
              "    </tr>\n",
              "    <tr>\n",
              "      <th>77</th>\n",
              "      <td>1.0</td>\n",
              "      <td>0.021226</td>\n",
              "      <td>0.028071</td>\n",
              "      <td>0.062816</td>\n",
              "    </tr>\n",
              "    <tr>\n",
              "      <th>78</th>\n",
              "      <td>-1.0</td>\n",
              "      <td>0.146794</td>\n",
              "      <td>0.049901</td>\n",
              "      <td>-0.164995</td>\n",
              "    </tr>\n",
              "    <tr>\n",
              "      <th>79</th>\n",
              "      <td>1.0</td>\n",
              "      <td>0.161476</td>\n",
              "      <td>-0.103022</td>\n",
              "      <td>0.114823</td>\n",
              "    </tr>\n",
              "  </tbody>\n",
              "</table>\n",
              "<p>80 rows × 4 columns</p>\n",
              "</div>\n",
              "      <button class=\"colab-df-convert\" onclick=\"convertToInteractive('df-04572866-a395-4429-bec9-46bda346e6b5')\"\n",
              "              title=\"Convert this dataframe to an interactive table.\"\n",
              "              style=\"display:none;\">\n",
              "        \n",
              "  <svg xmlns=\"http://www.w3.org/2000/svg\" height=\"24px\"viewBox=\"0 0 24 24\"\n",
              "       width=\"24px\">\n",
              "    <path d=\"M0 0h24v24H0V0z\" fill=\"none\"/>\n",
              "    <path d=\"M18.56 5.44l.94 2.06.94-2.06 2.06-.94-2.06-.94-.94-2.06-.94 2.06-2.06.94zm-11 1L8.5 8.5l.94-2.06 2.06-.94-2.06-.94L8.5 2.5l-.94 2.06-2.06.94zm10 10l.94 2.06.94-2.06 2.06-.94-2.06-.94-.94-2.06-.94 2.06-2.06.94z\"/><path d=\"M17.41 7.96l-1.37-1.37c-.4-.4-.92-.59-1.43-.59-.52 0-1.04.2-1.43.59L10.3 9.45l-7.72 7.72c-.78.78-.78 2.05 0 2.83L4 21.41c.39.39.9.59 1.41.59.51 0 1.02-.2 1.41-.59l7.78-7.78 2.81-2.81c.8-.78.8-2.07 0-2.86zM5.41 20L4 18.59l7.72-7.72 1.47 1.35L5.41 20z\"/>\n",
              "  </svg>\n",
              "      </button>\n",
              "      \n",
              "  <style>\n",
              "    .colab-df-container {\n",
              "      display:flex;\n",
              "      flex-wrap:wrap;\n",
              "      gap: 12px;\n",
              "    }\n",
              "\n",
              "    .colab-df-convert {\n",
              "      background-color: #E8F0FE;\n",
              "      border: none;\n",
              "      border-radius: 50%;\n",
              "      cursor: pointer;\n",
              "      display: none;\n",
              "      fill: #1967D2;\n",
              "      height: 32px;\n",
              "      padding: 0 0 0 0;\n",
              "      width: 32px;\n",
              "    }\n",
              "\n",
              "    .colab-df-convert:hover {\n",
              "      background-color: #E2EBFA;\n",
              "      box-shadow: 0px 1px 2px rgba(60, 64, 67, 0.3), 0px 1px 3px 1px rgba(60, 64, 67, 0.15);\n",
              "      fill: #174EA6;\n",
              "    }\n",
              "\n",
              "    [theme=dark] .colab-df-convert {\n",
              "      background-color: #3B4455;\n",
              "      fill: #D2E3FC;\n",
              "    }\n",
              "\n",
              "    [theme=dark] .colab-df-convert:hover {\n",
              "      background-color: #434B5C;\n",
              "      box-shadow: 0px 1px 3px 1px rgba(0, 0, 0, 0.15);\n",
              "      filter: drop-shadow(0px 1px 2px rgba(0, 0, 0, 0.3));\n",
              "      fill: #FFFFFF;\n",
              "    }\n",
              "  </style>\n",
              "\n",
              "      <script>\n",
              "        const buttonEl =\n",
              "          document.querySelector('#df-04572866-a395-4429-bec9-46bda346e6b5 button.colab-df-convert');\n",
              "        buttonEl.style.display =\n",
              "          google.colab.kernel.accessAllowed ? 'block' : 'none';\n",
              "\n",
              "        async function convertToInteractive(key) {\n",
              "          const element = document.querySelector('#df-04572866-a395-4429-bec9-46bda346e6b5');\n",
              "          const dataTable =\n",
              "            await google.colab.kernel.invokeFunction('convertToInteractive',\n",
              "                                                     [key], {});\n",
              "          if (!dataTable) return;\n",
              "\n",
              "          const docLinkHtml = 'Like what you see? Visit the ' +\n",
              "            '<a target=\"_blank\" href=https://colab.research.google.com/notebooks/data_table.ipynb>data table notebook</a>'\n",
              "            + ' to learn more about interactive tables.';\n",
              "          element.innerHTML = '';\n",
              "          dataTable['output_type'] = 'display_data';\n",
              "          await google.colab.output.renderOutput(dataTable, element);\n",
              "          const docLink = document.createElement('div');\n",
              "          docLink.innerHTML = docLinkHtml;\n",
              "          element.appendChild(docLink);\n",
              "        }\n",
              "      </script>\n",
              "    </div>\n",
              "  </div>\n",
              "  "
            ]
          },
          "metadata": {},
          "execution_count": 46
        }
      ]
    },
    {
      "cell_type": "code",
      "source": [
        ""
      ],
      "metadata": {
        "id": "R0znFL-vCpBp"
      },
      "execution_count": null,
      "outputs": []
    }
  ]
}